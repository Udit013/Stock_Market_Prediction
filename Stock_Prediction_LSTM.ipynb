{
 "cells": [
  {
   "cell_type": "markdown",
   "metadata": {},
   "source": [
    "### Stock Market Prediction And Forecasting Using Stacked LSTM"
   ]
  },
  {
   "cell_type": "code",
   "execution_count": 1,
   "metadata": {},
   "outputs": [],
   "source": [
    "### Keras and Tensorflow >2.0"
   ]
  },
  {
   "cell_type": "code",
   "execution_count": 2,
   "metadata": {},
   "outputs": [],
   "source": [
    "### Data Collection\n",
    "import yfinance as yf\n",
    "import datetime as dt\n",
    "import pandas as pd\n",
    "key=\"4f8693e94e9fcd9263c87898897c7da04213bb4c\""
   ]
  },
  {
   "cell_type": "code",
   "execution_count": 3,
   "metadata": {},
   "outputs": [
    {
     "data": {
      "text/plain": [
       "(datetime.datetime(2022, 10, 20, 0, 0),\n",
       " datetime.datetime(2023, 10, 1, 23, 18, 53, 657938))"
      ]
     },
     "execution_count": 3,
     "metadata": {},
     "output_type": "execute_result"
    }
   ],
   "source": [
    "start = dt.datetime(2022, 10, 20)\n",
    "end=dt.datetime.today()\n",
    "start,end"
   ]
  },
  {
   "cell_type": "code",
   "execution_count": 4,
   "metadata": {},
   "outputs": [],
   "source": [
    "symbol=\"GOOG\""
   ]
  },
  {
   "cell_type": "code",
   "execution_count": 5,
   "metadata": {},
   "outputs": [],
   "source": [
    "# df = pdr.get_data_tiingo(symbol,api_key=key)"
   ]
  },
  {
   "cell_type": "code",
   "execution_count": 6,
   "metadata": {},
   "outputs": [
    {
     "name": "stdout",
     "output_type": "stream",
     "text": [
      "[*********************100%***********************]  1 of 1 completed\n"
     ]
    },
    {
     "data": {
      "text/html": [
       "<div>\n",
       "<style scoped>\n",
       "    .dataframe tbody tr th:only-of-type {\n",
       "        vertical-align: middle;\n",
       "    }\n",
       "\n",
       "    .dataframe tbody tr th {\n",
       "        vertical-align: top;\n",
       "    }\n",
       "\n",
       "    .dataframe thead th {\n",
       "        text-align: right;\n",
       "    }\n",
       "</style>\n",
       "<table border=\"1\" class=\"dataframe\">\n",
       "  <thead>\n",
       "    <tr style=\"text-align: right;\">\n",
       "      <th></th>\n",
       "      <th>Open</th>\n",
       "      <th>High</th>\n",
       "      <th>Low</th>\n",
       "      <th>Close</th>\n",
       "      <th>Adj Close</th>\n",
       "      <th>Volume</th>\n",
       "    </tr>\n",
       "    <tr>\n",
       "      <th>Date</th>\n",
       "      <th></th>\n",
       "      <th></th>\n",
       "      <th></th>\n",
       "      <th></th>\n",
       "      <th></th>\n",
       "      <th></th>\n",
       "    </tr>\n",
       "  </thead>\n",
       "  <tbody>\n",
       "    <tr>\n",
       "      <th>2022-10-20</th>\n",
       "      <td>100.820000</td>\n",
       "      <td>103.000000</td>\n",
       "      <td>99.970001</td>\n",
       "      <td>100.529999</td>\n",
       "      <td>100.529999</td>\n",
       "      <td>25125100</td>\n",
       "    </tr>\n",
       "    <tr>\n",
       "      <th>2022-10-21</th>\n",
       "      <td>98.459999</td>\n",
       "      <td>101.620003</td>\n",
       "      <td>98.230003</td>\n",
       "      <td>101.480003</td>\n",
       "      <td>101.480003</td>\n",
       "      <td>28988700</td>\n",
       "    </tr>\n",
       "    <tr>\n",
       "      <th>2022-10-24</th>\n",
       "      <td>102.089996</td>\n",
       "      <td>103.099998</td>\n",
       "      <td>100.300003</td>\n",
       "      <td>102.970001</td>\n",
       "      <td>102.970001</td>\n",
       "      <td>24680800</td>\n",
       "    </tr>\n",
       "    <tr>\n",
       "      <th>2022-10-25</th>\n",
       "      <td>103.300003</td>\n",
       "      <td>105.099998</td>\n",
       "      <td>103.019997</td>\n",
       "      <td>104.930000</td>\n",
       "      <td>104.930000</td>\n",
       "      <td>29910200</td>\n",
       "    </tr>\n",
       "    <tr>\n",
       "      <th>2022-10-26</th>\n",
       "      <td>96.760002</td>\n",
       "      <td>98.540001</td>\n",
       "      <td>94.570000</td>\n",
       "      <td>94.820000</td>\n",
       "      <td>94.820000</td>\n",
       "      <td>71504300</td>\n",
       "    </tr>\n",
       "  </tbody>\n",
       "</table>\n",
       "</div>"
      ],
      "text/plain": [
       "                  Open        High         Low       Close   Adj Close  \\\n",
       "Date                                                                     \n",
       "2022-10-20  100.820000  103.000000   99.970001  100.529999  100.529999   \n",
       "2022-10-21   98.459999  101.620003   98.230003  101.480003  101.480003   \n",
       "2022-10-24  102.089996  103.099998  100.300003  102.970001  102.970001   \n",
       "2022-10-25  103.300003  105.099998  103.019997  104.930000  104.930000   \n",
       "2022-10-26   96.760002   98.540001   94.570000   94.820000   94.820000   \n",
       "\n",
       "              Volume  \n",
       "Date                  \n",
       "2022-10-20  25125100  \n",
       "2022-10-21  28988700  \n",
       "2022-10-24  24680800  \n",
       "2022-10-25  29910200  \n",
       "2022-10-26  71504300  "
      ]
     },
     "execution_count": 6,
     "metadata": {},
     "output_type": "execute_result"
    }
   ],
   "source": [
    "df=yf.download(symbol,start,end)\n",
    "df.head()"
   ]
  },
  {
   "cell_type": "code",
   "execution_count": 7,
   "metadata": {},
   "outputs": [],
   "source": [
    "# df.to_csv('AAPL.csv')\n",
    "# df=pd.read_csv('GOOG.csv')"
   ]
  },
  {
   "cell_type": "code",
   "execution_count": 8,
   "metadata": {},
   "outputs": [
    {
     "data": {
      "text/html": [
       "<div>\n",
       "<style scoped>\n",
       "    .dataframe tbody tr th:only-of-type {\n",
       "        vertical-align: middle;\n",
       "    }\n",
       "\n",
       "    .dataframe tbody tr th {\n",
       "        vertical-align: top;\n",
       "    }\n",
       "\n",
       "    .dataframe thead th {\n",
       "        text-align: right;\n",
       "    }\n",
       "</style>\n",
       "<table border=\"1\" class=\"dataframe\">\n",
       "  <thead>\n",
       "    <tr style=\"text-align: right;\">\n",
       "      <th></th>\n",
       "      <th>Open</th>\n",
       "      <th>High</th>\n",
       "      <th>Low</th>\n",
       "      <th>Close</th>\n",
       "      <th>Adj Close</th>\n",
       "      <th>Volume</th>\n",
       "    </tr>\n",
       "    <tr>\n",
       "      <th>Date</th>\n",
       "      <th></th>\n",
       "      <th></th>\n",
       "      <th></th>\n",
       "      <th></th>\n",
       "      <th></th>\n",
       "      <th></th>\n",
       "    </tr>\n",
       "  </thead>\n",
       "  <tbody>\n",
       "    <tr>\n",
       "      <th>2022-10-20</th>\n",
       "      <td>100.820000</td>\n",
       "      <td>103.000000</td>\n",
       "      <td>99.970001</td>\n",
       "      <td>100.529999</td>\n",
       "      <td>100.529999</td>\n",
       "      <td>25125100</td>\n",
       "    </tr>\n",
       "    <tr>\n",
       "      <th>2022-10-21</th>\n",
       "      <td>98.459999</td>\n",
       "      <td>101.620003</td>\n",
       "      <td>98.230003</td>\n",
       "      <td>101.480003</td>\n",
       "      <td>101.480003</td>\n",
       "      <td>28988700</td>\n",
       "    </tr>\n",
       "    <tr>\n",
       "      <th>2022-10-24</th>\n",
       "      <td>102.089996</td>\n",
       "      <td>103.099998</td>\n",
       "      <td>100.300003</td>\n",
       "      <td>102.970001</td>\n",
       "      <td>102.970001</td>\n",
       "      <td>24680800</td>\n",
       "    </tr>\n",
       "    <tr>\n",
       "      <th>2022-10-25</th>\n",
       "      <td>103.300003</td>\n",
       "      <td>105.099998</td>\n",
       "      <td>103.019997</td>\n",
       "      <td>104.930000</td>\n",
       "      <td>104.930000</td>\n",
       "      <td>29910200</td>\n",
       "    </tr>\n",
       "    <tr>\n",
       "      <th>2022-10-26</th>\n",
       "      <td>96.760002</td>\n",
       "      <td>98.540001</td>\n",
       "      <td>94.570000</td>\n",
       "      <td>94.820000</td>\n",
       "      <td>94.820000</td>\n",
       "      <td>71504300</td>\n",
       "    </tr>\n",
       "  </tbody>\n",
       "</table>\n",
       "</div>"
      ],
      "text/plain": [
       "                  Open        High         Low       Close   Adj Close  \\\n",
       "Date                                                                     \n",
       "2022-10-20  100.820000  103.000000   99.970001  100.529999  100.529999   \n",
       "2022-10-21   98.459999  101.620003   98.230003  101.480003  101.480003   \n",
       "2022-10-24  102.089996  103.099998  100.300003  102.970001  102.970001   \n",
       "2022-10-25  103.300003  105.099998  103.019997  104.930000  104.930000   \n",
       "2022-10-26   96.760002   98.540001   94.570000   94.820000   94.820000   \n",
       "\n",
       "              Volume  \n",
       "Date                  \n",
       "2022-10-20  25125100  \n",
       "2022-10-21  28988700  \n",
       "2022-10-24  24680800  \n",
       "2022-10-25  29910200  \n",
       "2022-10-26  71504300  "
      ]
     },
     "execution_count": 8,
     "metadata": {},
     "output_type": "execute_result"
    }
   ],
   "source": [
    "df.head()"
   ]
  },
  {
   "cell_type": "code",
   "execution_count": 9,
   "metadata": {},
   "outputs": [
    {
     "data": {
      "text/html": [
       "<div>\n",
       "<style scoped>\n",
       "    .dataframe tbody tr th:only-of-type {\n",
       "        vertical-align: middle;\n",
       "    }\n",
       "\n",
       "    .dataframe tbody tr th {\n",
       "        vertical-align: top;\n",
       "    }\n",
       "\n",
       "    .dataframe thead th {\n",
       "        text-align: right;\n",
       "    }\n",
       "</style>\n",
       "<table border=\"1\" class=\"dataframe\">\n",
       "  <thead>\n",
       "    <tr style=\"text-align: right;\">\n",
       "      <th></th>\n",
       "      <th>Open</th>\n",
       "      <th>High</th>\n",
       "      <th>Low</th>\n",
       "      <th>Close</th>\n",
       "      <th>Adj Close</th>\n",
       "      <th>Volume</th>\n",
       "    </tr>\n",
       "    <tr>\n",
       "      <th>Date</th>\n",
       "      <th></th>\n",
       "      <th></th>\n",
       "      <th></th>\n",
       "      <th></th>\n",
       "      <th></th>\n",
       "      <th></th>\n",
       "    </tr>\n",
       "  </thead>\n",
       "  <tbody>\n",
       "    <tr>\n",
       "      <th>2023-09-25</th>\n",
       "      <td>130.770004</td>\n",
       "      <td>132.220001</td>\n",
       "      <td>130.029999</td>\n",
       "      <td>132.169998</td>\n",
       "      <td>132.169998</td>\n",
       "      <td>14650000</td>\n",
       "    </tr>\n",
       "    <tr>\n",
       "      <th>2023-09-26</th>\n",
       "      <td>130.914001</td>\n",
       "      <td>131.404999</td>\n",
       "      <td>128.190002</td>\n",
       "      <td>129.449997</td>\n",
       "      <td>129.449997</td>\n",
       "      <td>20378800</td>\n",
       "    </tr>\n",
       "    <tr>\n",
       "      <th>2023-09-27</th>\n",
       "      <td>129.440002</td>\n",
       "      <td>131.720001</td>\n",
       "      <td>129.380005</td>\n",
       "      <td>131.460007</td>\n",
       "      <td>131.460007</td>\n",
       "      <td>18764200</td>\n",
       "    </tr>\n",
       "    <tr>\n",
       "      <th>2023-09-28</th>\n",
       "      <td>130.690002</td>\n",
       "      <td>134.179993</td>\n",
       "      <td>130.690002</td>\n",
       "      <td>133.130005</td>\n",
       "      <td>133.130005</td>\n",
       "      <td>18201400</td>\n",
       "    </tr>\n",
       "    <tr>\n",
       "      <th>2023-09-29</th>\n",
       "      <td>134.080002</td>\n",
       "      <td>134.889999</td>\n",
       "      <td>131.320007</td>\n",
       "      <td>131.850006</td>\n",
       "      <td>131.850006</td>\n",
       "      <td>23224200</td>\n",
       "    </tr>\n",
       "  </tbody>\n",
       "</table>\n",
       "</div>"
      ],
      "text/plain": [
       "                  Open        High         Low       Close   Adj Close  \\\n",
       "Date                                                                     \n",
       "2023-09-25  130.770004  132.220001  130.029999  132.169998  132.169998   \n",
       "2023-09-26  130.914001  131.404999  128.190002  129.449997  129.449997   \n",
       "2023-09-27  129.440002  131.720001  129.380005  131.460007  131.460007   \n",
       "2023-09-28  130.690002  134.179993  130.690002  133.130005  133.130005   \n",
       "2023-09-29  134.080002  134.889999  131.320007  131.850006  131.850006   \n",
       "\n",
       "              Volume  \n",
       "Date                  \n",
       "2023-09-25  14650000  \n",
       "2023-09-26  20378800  \n",
       "2023-09-27  18764200  \n",
       "2023-09-28  18201400  \n",
       "2023-09-29  23224200  "
      ]
     },
     "execution_count": 9,
     "metadata": {},
     "output_type": "execute_result"
    }
   ],
   "source": [
    "df.tail()"
   ]
  },
  {
   "cell_type": "code",
   "execution_count": 10,
   "metadata": {},
   "outputs": [],
   "source": [
    "df1=df.reset_index()['Close']"
   ]
  },
  {
   "cell_type": "code",
   "execution_count": 11,
   "metadata": {},
   "outputs": [
    {
     "data": {
      "text/plain": [
       "0      100.529999\n",
       "1      101.480003\n",
       "2      102.970001\n",
       "3      104.930000\n",
       "4       94.820000\n",
       "          ...    \n",
       "232    132.169998\n",
       "233    129.449997\n",
       "234    131.460007\n",
       "235    133.130005\n",
       "236    131.850006\n",
       "Name: Close, Length: 237, dtype: float64"
      ]
     },
     "execution_count": 11,
     "metadata": {},
     "output_type": "execute_result"
    }
   ],
   "source": [
    "df1"
   ]
  },
  {
   "cell_type": "code",
   "execution_count": 12,
   "metadata": {},
   "outputs": [
    {
     "data": {
      "text/plain": [
       "[<matplotlib.lines.Line2D at 0x7fba05444d30>]"
      ]
     },
     "execution_count": 12,
     "metadata": {},
     "output_type": "execute_result"
    },
    {
     "data": {
      "image/png": "[encoded data removed]",
      "text/plain": [
       "<Figure size 640x480 with 1 Axes>"
      ]
     },
     "metadata": {},
     "output_type": "display_data"
    }
   ],
   "source": [
    "import matplotlib.pyplot as plt\n",
    "plt.plot(df1)"
   ]
  },
  {
   "cell_type": "code",
   "execution_count": 13,
   "metadata": {},
   "outputs": [],
   "source": [
    "### LSTM are sensitive to the scale of the data. so we apply MinMax scaler "
   ]
  },
  {
   "cell_type": "code",
   "execution_count": 14,
   "metadata": {},
   "outputs": [],
   "source": [
    "import numpy as np"
   ]
  },
  {
   "cell_type": "code",
   "execution_count": 15,
   "metadata": {},
   "outputs": [
    {
     "data": {
      "text/plain": [
       "0      100.529999\n",
       "1      101.480003\n",
       "2      102.970001\n",
       "3      104.930000\n",
       "4       94.820000\n",
       "          ...    \n",
       "232    132.169998\n",
       "233    129.449997\n",
       "234    131.460007\n",
       "235    133.130005\n",
       "236    131.850006\n",
       "Name: Close, Length: 237, dtype: float64"
      ]
     },
     "execution_count": 15,
     "metadata": {},
     "output_type": "execute_result"
    }
   ],
   "source": [
    "df1"
   ]
  },
  {
   "cell_type": "code",
   "execution_count": 16,
   "metadata": {},
   "outputs": [],
   "source": [
    "from sklearn.preprocessing import MinMaxScaler\n",
    "Ms = MinMaxScaler()\n",
    "df [df .columns] = Ms.fit_transform(df)\n",
    "# scaler=MinMaxScaler(feature_range=(0,1))\n",
    "# df1=scaler.fit_transform(np.array(df1).reshape(-1,1))"
   ]
  },
  {
   "cell_type": "code",
   "execution_count": 17,
   "metadata": {},
   "outputs": [
    {
     "name": "stdout",
     "output_type": "stream",
     "text": [
      "                Open      High       Low     Close  Adj Close    Volume\n",
      "Date                                                                   \n",
      "2022-10-20  0.287134  0.308168  0.304910  0.307027   0.307027  0.185556\n",
      "2022-10-21  0.242873  0.282316  0.272794  0.324144   0.324144  0.228855\n",
      "2022-10-24  0.310953  0.310041  0.311000  0.350991   0.350991  0.180577\n",
      "2022-10-25  0.333646  0.347508  0.361203  0.386306   0.386306  0.239182\n",
      "2022-10-26  0.210990  0.224616  0.205242  0.204144   0.204144  0.705323\n",
      "...              ...       ...       ...       ...        ...       ...\n",
      "2023-09-25  0.848837  0.855564  0.859727  0.877117   0.877117  0.068163\n",
      "2023-09-26  0.851538  0.840296  0.825766  0.828108   0.828108  0.132365\n",
      "2023-09-27  0.823893  0.846197  0.847730  0.864324   0.864324  0.114270\n",
      "2023-09-28  0.847337  0.892282  0.871908  0.894414   0.894414  0.107963\n",
      "2023-09-29  0.910915  0.905583  0.883536  0.871351   0.871351  0.164253\n",
      "\n",
      "[237 rows x 6 columns]\n"
     ]
    }
   ],
   "source": [
    "print(df)"
   ]
  },
  {
   "cell_type": "code",
   "execution_count": 18,
   "metadata": {},
   "outputs": [
    {
     "ename": "KeyError",
     "evalue": "'key of type tuple not found and not a MultiIndex'",
     "output_type": "error",
     "traceback": [
      "\u001b[0;31m---------------------------------------------------------------------------\u001b[0m",
      "\u001b[0;31mKeyError\u001b[0m                                  Traceback (most recent call last)",
      "\u001b[1;32m/home/udit/coding/Stock_Market_Prediction/Stock_Prediction_LSTM.ipynb Cell 19\u001b[0m line \u001b[0;36m3\n\u001b[1;32m      <a href='vscode-notebook-cell:/home/udit/coding/Stock_Market_Prediction/Stock_Prediction_LSTM.ipynb#X24sZmlsZQ%3D%3D?line=0'>1</a>\u001b[0m training_size\u001b[39m=\u001b[39m\u001b[39mint\u001b[39m(\u001b[39mlen\u001b[39m(df1)\u001b[39m*\u001b[39m\u001b[39m0.65\u001b[39m)\n\u001b[1;32m      <a href='vscode-notebook-cell:/home/udit/coding/Stock_Market_Prediction/Stock_Prediction_LSTM.ipynb#X24sZmlsZQ%3D%3D?line=1'>2</a>\u001b[0m test_size\u001b[39m=\u001b[39m\u001b[39mlen\u001b[39m(df1)\u001b[39m-\u001b[39mtraining_size\n\u001b[0;32m----> <a href='vscode-notebook-cell:/home/udit/coding/Stock_Market_Prediction/Stock_Prediction_LSTM.ipynb#X24sZmlsZQ%3D%3D?line=2'>3</a>\u001b[0m train_data,test_data\u001b[39m=\u001b[39mdf1[\u001b[39m0\u001b[39;49m:training_size,:],df1[training_size:\u001b[39mlen\u001b[39m(df1),:\u001b[39m1\u001b[39m]\n",
      "File \u001b[0;32m~/.local/lib/python3.10/site-packages/pandas/core/series.py:1007\u001b[0m, in \u001b[0;36mSeries.__getitem__\u001b[0;34m(self, key)\u001b[0m\n\u001b[1;32m   1004\u001b[0m     key \u001b[39m=\u001b[39m np\u001b[39m.\u001b[39masarray(key, dtype\u001b[39m=\u001b[39m\u001b[39mbool\u001b[39m)\n\u001b[1;32m   1005\u001b[0m     \u001b[39mreturn\u001b[39;00m \u001b[39mself\u001b[39m\u001b[39m.\u001b[39m_get_values(key)\n\u001b[0;32m-> 1007\u001b[0m \u001b[39mreturn\u001b[39;00m \u001b[39mself\u001b[39;49m\u001b[39m.\u001b[39;49m_get_with(key)\n",
      "File \u001b[0;32m~/.local/lib/python3.10/site-packages/pandas/core/series.py:1022\u001b[0m, in \u001b[0;36mSeries._get_with\u001b[0;34m(self, key)\u001b[0m\n\u001b[1;32m   1017\u001b[0m     \u001b[39mraise\u001b[39;00m \u001b[39mTypeError\u001b[39;00m(\n\u001b[1;32m   1018\u001b[0m         \u001b[39m\"\u001b[39m\u001b[39mIndexing a Series with DataFrame is not \u001b[39m\u001b[39m\"\u001b[39m\n\u001b[1;32m   1019\u001b[0m         \u001b[39m\"\u001b[39m\u001b[39msupported, use the appropriate DataFrame column\u001b[39m\u001b[39m\"\u001b[39m\n\u001b[1;32m   1020\u001b[0m     )\n\u001b[1;32m   1021\u001b[0m \u001b[39melif\u001b[39;00m \u001b[39misinstance\u001b[39m(key, \u001b[39mtuple\u001b[39m):\n\u001b[0;32m-> 1022\u001b[0m     \u001b[39mreturn\u001b[39;00m \u001b[39mself\u001b[39;49m\u001b[39m.\u001b[39;49m_get_values_tuple(key)\n\u001b[1;32m   1024\u001b[0m \u001b[39melif\u001b[39;00m \u001b[39mnot\u001b[39;00m is_list_like(key):\n\u001b[1;32m   1025\u001b[0m     \u001b[39m# e.g. scalars that aren't recognized by lib.is_scalar, GH#32684\u001b[39;00m\n\u001b[1;32m   1026\u001b[0m     \u001b[39mreturn\u001b[39;00m \u001b[39mself\u001b[39m\u001b[39m.\u001b[39mloc[key]\n",
      "File \u001b[0;32m~/.local/lib/python3.10/site-packages/pandas/core/series.py:1060\u001b[0m, in \u001b[0;36mSeries._get_values_tuple\u001b[0;34m(self, key)\u001b[0m\n\u001b[1;32m   1057\u001b[0m     \u001b[39mreturn\u001b[39;00m result\n\u001b[1;32m   1059\u001b[0m \u001b[39mif\u001b[39;00m \u001b[39mnot\u001b[39;00m \u001b[39misinstance\u001b[39m(\u001b[39mself\u001b[39m\u001b[39m.\u001b[39mindex, MultiIndex):\n\u001b[0;32m-> 1060\u001b[0m     \u001b[39mraise\u001b[39;00m \u001b[39mKeyError\u001b[39;00m(\u001b[39m\"\u001b[39m\u001b[39mkey of type tuple not found and not a MultiIndex\u001b[39m\u001b[39m\"\u001b[39m)\n\u001b[1;32m   1062\u001b[0m \u001b[39m# If key is contained, would have returned by now\u001b[39;00m\n\u001b[1;32m   1063\u001b[0m indexer, new_index \u001b[39m=\u001b[39m \u001b[39mself\u001b[39m\u001b[39m.\u001b[39mindex\u001b[39m.\u001b[39mget_loc_level(key)\n",
      "\u001b[0;31mKeyError\u001b[0m: 'key of type tuple not found and not a MultiIndex'"
     ]
    }
   ],
   "source": [
    "training_size=int(len(df1)*0.65)\n",
    "test_size=len(df1)-training_size\n",
    "train_data,test_data=df1[0:training_size,:],df1[training_size:len(df1),:1]"
   ]
  },
  {
   "cell_type": "code",
   "execution_count": null,
   "metadata": {},
   "outputs": [],
   "source": [
    "##splitting dataset into train and test split\n",
    "training_size=int(len(df1)*0.65)\n",
    "test_size=len(df1)-training_size\n",
    "train_data,test_data=df1[0:training_size,:],df1[training_size:len(df1),:1]"
   ]
  },
  {
   "cell_type": "code",
   "execution_count": null,
   "metadata": {},
   "outputs": [
    {
     "data": {
      "text/plain": [
       "(86, 47)"
      ]
     },
     "execution_count": 26,
     "metadata": {},
     "output_type": "execute_result"
    }
   ],
   "source": [
    "training_size,test_size"
   ]
  },
  {
   "cell_type": "code",
   "execution_count": null,
   "metadata": {},
   "outputs": [
    {
     "data": {
      "text/plain": [
       "array([[0.65614171],\n",
       "       [0.69272255],\n",
       "       [0.75009636],\n",
       "       [0.82556802],\n",
       "       [0.43627267],\n",
       "       [0.35078938],\n",
       "       [0.50404326],\n",
       "       [0.43011187],\n",
       "       [0.26992691],\n",
       "       [0.13785143],\n",
       "       [0.        ],\n",
       "       [0.12360412],\n",
       "       [0.19869093],\n",
       "       [0.20870256],\n",
       "       [0.15055847],\n",
       "       [0.41124374],\n",
       "       [0.50981921],\n",
       "       [0.48286486],\n",
       "       [0.586446  ],\n",
       "       [0.59684248],\n",
       "       [0.57797464],\n",
       "       [0.55102058],\n",
       "       [0.47516378],\n",
       "       [0.53292273],\n",
       "       [0.59029654],\n",
       "       [0.54331921],\n",
       "       [0.49133622],\n",
       "       [0.46014648],\n",
       "       [0.69156713],\n",
       "       [0.68502118],\n",
       "       [0.66769361],\n",
       "       [0.63072792],\n",
       "       [0.53215245],\n",
       "       [0.44897971],\n",
       "       [0.40277238],\n",
       "       [0.36888723],\n",
       "       [0.38775507],\n",
       "       [0.47593377],\n",
       "       [0.45514051],\n",
       "       [0.29688097],\n",
       "       [0.28378908],\n",
       "       [0.21794391],\n",
       "       [0.23642661],\n",
       "       [0.26030042],\n",
       "       [0.18367363],\n",
       "       [0.2433577 ],\n",
       "       [0.17096659],\n",
       "       [0.11436277],\n",
       "       [0.21024254],\n",
       "       [0.20177148],\n",
       "       [0.23912202],\n",
       "       [0.20100119],\n",
       "       [0.12629952],\n",
       "       [0.17982309],\n",
       "       [0.20446688],\n",
       "       [0.22140931],\n",
       "       [0.33769749],\n",
       "       [0.32422046],\n",
       "       [0.35849075],\n",
       "       [0.33384695],\n",
       "       [0.3192145 ],\n",
       "       [0.4012324 ],\n",
       "       [0.60800925],\n",
       "       [0.68232578],\n",
       "       [0.60531384],\n",
       "       [0.50981921],\n",
       "       [0.60338872],\n",
       "       [0.66307279],\n",
       "       [0.55679624],\n",
       "       [0.63072792],\n",
       "       [0.69079714],\n",
       "       [0.97458621],\n",
       "       [0.83673478],\n",
       "       [0.76934934],\n",
       "       [0.9453216 ],\n",
       "       [0.63573359],\n",
       "       [0.46091647],\n",
       "       [0.43781295],\n",
       "       [0.44320376],\n",
       "       [0.44127834],\n",
       "       [0.52406623],\n",
       "       [0.47323836],\n",
       "       [0.42741617],\n",
       "       [0.32961127],\n",
       "       [0.31998478],\n",
       "       [0.2918753 ]])"
      ]
     },
     "execution_count": 27,
     "metadata": {},
     "output_type": "execute_result"
    }
   ],
   "source": [
    "train_data"
   ]
  },
  {
   "cell_type": "code",
   "execution_count": null,
   "metadata": {},
   "outputs": [],
   "source": [
    "import numpy\n",
    "# convert an array of values into a dataset matrix\n",
    "def create_dataset(dataset, time_step=1):\n",
    "\tdataX, dataY = [], []\n",
    "\tfor i in range(len(dataset)-time_step-1):\n",
    "\t\ta = dataset[i:(i+time_step), 0]   ###i=0, 0,1,2,3-----99   100 \n",
    "\t\tdataX.append(a)\n",
    "\t\tdataY.append(dataset[i + time_step, 0])\n",
    "\treturn numpy.array(dataX), numpy.array(dataY)"
   ]
  },
  {
   "cell_type": "code",
   "execution_count": null,
   "metadata": {},
   "outputs": [],
   "source": [
    "# reshape into X=t,t+1,t+2,t+3 and Y=t+4\n",
    "time_step = 100\n",
    "X_train, y_train = create_dataset(train_data, time_step)\n",
    "X_test, ytest = create_dataset(test_data, time_step)"
   ]
  },
  {
   "cell_type": "code",
   "execution_count": null,
   "metadata": {},
   "outputs": [
    {
     "name": "stdout",
     "output_type": "stream",
     "text": [
      "(0,)\n",
      "(0,)\n"
     ]
    },
    {
     "data": {
      "text/plain": [
       "(None, None)"
      ]
     },
     "execution_count": 30,
     "metadata": {},
     "output_type": "execute_result"
    }
   ],
   "source": [
    "print(X_train.shape), print(y_train.shape)"
   ]
  },
  {
   "cell_type": "code",
   "execution_count": null,
   "metadata": {},
   "outputs": [
    {
     "name": "stdout",
     "output_type": "stream",
     "text": [
      "(0,)\n",
      "(0,)\n"
     ]
    },
    {
     "data": {
      "text/plain": [
       "(None, None)"
      ]
     },
     "execution_count": 31,
     "metadata": {},
     "output_type": "execute_result"
    }
   ],
   "source": [
    "print(X_test.shape), print(ytest.shape)"
   ]
  },
  {
   "cell_type": "code",
   "execution_count": null,
   "metadata": {},
   "outputs": [
    {
     "ename": "IndexError",
     "evalue": "tuple index out of range",
     "output_type": "error",
     "traceback": [
      "\u001b[0;31m---------------------------------------------------------------------------\u001b[0m",
      "\u001b[0;31mIndexError\u001b[0m                                Traceback (most recent call last)",
      "Cell \u001b[0;32mIn[32], line 2\u001b[0m\n\u001b[1;32m      1\u001b[0m \u001b[39m# reshape input to be [samples, time steps, features] which is required for LSTM\u001b[39;00m\n\u001b[0;32m----> 2\u001b[0m X_train \u001b[39m=\u001b[39mX_train\u001b[39m.\u001b[39mreshape(X_train\u001b[39m.\u001b[39mshape[\u001b[39m0\u001b[39m],X_train\u001b[39m.\u001b[39;49mshape[\u001b[39m1\u001b[39;49m] , \u001b[39m1\u001b[39m)\n\u001b[1;32m      3\u001b[0m X_test \u001b[39m=\u001b[39m X_test\u001b[39m.\u001b[39mreshape(X_test\u001b[39m.\u001b[39mshape[\u001b[39m0\u001b[39m],X_test\u001b[39m.\u001b[39mshape[\u001b[39m1\u001b[39m] , \u001b[39m1\u001b[39m)\n",
      "\u001b[0;31mIndexError\u001b[0m: tuple index out of range"
     ]
    }
   ],
   "source": [
    "# reshape input to be [samples, time steps, features] which is required for LSTM\n",
    "X_train =X_train.reshape(X_train.shape[0],X_train.shape[1] , 1)\n",
    "X_test = X_test.reshape(X_test.shape[0],X_test.shape[1] , 1)"
   ]
  },
  {
   "cell_type": "code",
   "execution_count": null,
   "metadata": {},
   "outputs": [],
   "source": [
    "### Create the Stacked LSTM model\n",
    "from tensorflow.keras.models import Sequential\n",
    "from tensorflow.keras.layers import Dense\n",
    "from tensorflow.keras.layers import LSTM"
   ]
  },
  {
   "cell_type": "code",
   "execution_count": null,
   "metadata": {},
   "outputs": [
    {
     "name": "stderr",
     "output_type": "stream",
     "text": [
      "2023-04-26 17:46:47.042839: I tensorflow/core/common_runtime/executor.cc:1197] [/device:CPU:0] (DEBUG INFO) Executor start aborting (this does not indicate an error and you can ignore this message): INVALID_ARGUMENT: You must feed a value for placeholder tensor 'gradients/split_2_grad/concat/split_2/split_dim' with dtype int32\n",
      "\t [[{{node gradients/split_2_grad/concat/split_2/split_dim}}]]\n",
      "2023-04-26 17:46:47.045401: I tensorflow/core/common_runtime/executor.cc:1197] [/device:CPU:0] (DEBUG INFO) Executor start aborting (this does not indicate an error and you can ignore this message): INVALID_ARGUMENT: You must feed a value for placeholder tensor 'gradients/split_grad/concat/split/split_dim' with dtype int32\n",
      "\t [[{{node gradients/split_grad/concat/split/split_dim}}]]\n",
      "2023-04-26 17:46:47.047255: I tensorflow/core/common_runtime/executor.cc:1197] [/device:CPU:0] (DEBUG INFO) Executor start aborting (this does not indicate an error and you can ignore this message): INVALID_ARGUMENT: You must feed a value for placeholder tensor 'gradients/split_1_grad/concat/split_1/split_dim' with dtype int32\n",
      "\t [[{{node gradients/split_1_grad/concat/split_1/split_dim}}]]\n",
      "2023-04-26 17:46:47.442253: I tensorflow/core/common_runtime/executor.cc:1197] [/device:CPU:0] (DEBUG INFO) Executor start aborting (this does not indicate an error and you can ignore this message): INVALID_ARGUMENT: You must feed a value for placeholder tensor 'gradients/split_2_grad/concat/split_2/split_dim' with dtype int32\n",
      "\t [[{{node gradients/split_2_grad/concat/split_2/split_dim}}]]\n",
      "2023-04-26 17:46:47.443860: I tensorflow/core/common_runtime/executor.cc:1197] [/device:CPU:0] (DEBUG INFO) Executor start aborting (this does not indicate an error and you can ignore this message): INVALID_ARGUMENT: You must feed a value for placeholder tensor 'gradients/split_grad/concat/split/split_dim' with dtype int32\n",
      "\t [[{{node gradients/split_grad/concat/split/split_dim}}]]\n",
      "2023-04-26 17:46:47.445297: I tensorflow/core/common_runtime/executor.cc:1197] [/device:CPU:0] (DEBUG INFO) Executor start aborting (this does not indicate an error and you can ignore this message): INVALID_ARGUMENT: You must feed a value for placeholder tensor 'gradients/split_1_grad/concat/split_1/split_dim' with dtype int32\n",
      "\t [[{{node gradients/split_1_grad/concat/split_1/split_dim}}]]\n",
      "2023-04-26 17:46:47.633608: I tensorflow/core/common_runtime/executor.cc:1197] [/device:CPU:0] (DEBUG INFO) Executor start aborting (this does not indicate an error and you can ignore this message): INVALID_ARGUMENT: You must feed a value for placeholder tensor 'gradients/split_2_grad/concat/split_2/split_dim' with dtype int32\n",
      "\t [[{{node gradients/split_2_grad/concat/split_2/split_dim}}]]\n",
      "2023-04-26 17:46:47.634956: I tensorflow/core/common_runtime/executor.cc:1197] [/device:CPU:0] (DEBUG INFO) Executor start aborting (this does not indicate an error and you can ignore this message): INVALID_ARGUMENT: You must feed a value for placeholder tensor 'gradients/split_grad/concat/split/split_dim' with dtype int32\n",
      "\t [[{{node gradients/split_grad/concat/split/split_dim}}]]\n",
      "2023-04-26 17:46:47.636112: I tensorflow/core/common_runtime/executor.cc:1197] [/device:CPU:0] (DEBUG INFO) Executor start aborting (this does not indicate an error and you can ignore this message): INVALID_ARGUMENT: You must feed a value for placeholder tensor 'gradients/split_1_grad/concat/split_1/split_dim' with dtype int32\n",
      "\t [[{{node gradients/split_1_grad/concat/split_1/split_dim}}]]\n"
     ]
    }
   ],
   "source": [
    "model=Sequential()\n",
    "model.add(LSTM(50,return_sequences=True,input_shape=(100,1)))\n",
    "model.add(LSTM(50,return_sequences=True))\n",
    "model.add(LSTM(50))\n",
    "model.add(Dense(1))\n",
    "model.compile(loss='mean_squared_error',optimizer='adam')\n"
   ]
  },
  {
   "cell_type": "code",
   "execution_count": null,
   "metadata": {},
   "outputs": [
    {
     "name": "stdout",
     "output_type": "stream",
     "text": [
      "Model: \"sequential_1\"\n",
      "_________________________________________________________________\n",
      " Layer (type)                Output Shape              Param #   \n",
      "=================================================================\n",
      " lstm_3 (LSTM)               (None, 100, 50)           10400     \n",
      "                                                                 \n",
      " lstm_4 (LSTM)               (None, 100, 50)           20200     \n",
      "                                                                 \n",
      " lstm_5 (LSTM)               (None, 50)                20200     \n",
      "                                                                 \n",
      " dense_1 (Dense)             (None, 1)                 51        \n",
      "                                                                 \n",
      "=================================================================\n",
      "Total params: 50,851\n",
      "Trainable params: 50,851\n",
      "Non-trainable params: 0\n",
      "_________________________________________________________________\n"
     ]
    }
   ],
   "source": [
    "model.summary()"
   ]
  },
  {
   "cell_type": "code",
   "execution_count": null,
   "metadata": {},
   "outputs": [
    {
     "name": "stdout",
     "output_type": "stream",
     "text": [
      "Model: \"sequential_1\"\n",
      "_________________________________________________________________\n",
      " Layer (type)                Output Shape              Param #   \n",
      "=================================================================\n",
      " lstm_3 (LSTM)               (None, 100, 50)           10400     \n",
      "                                                                 \n",
      " lstm_4 (LSTM)               (None, 100, 50)           20200     \n",
      "                                                                 \n",
      " lstm_5 (LSTM)               (None, 50)                20200     \n",
      "                                                                 \n",
      " dense_1 (Dense)             (None, 1)                 51        \n",
      "                                                                 \n",
      "=================================================================\n",
      "Total params: 50,851\n",
      "Trainable params: 50,851\n",
      "Non-trainable params: 0\n",
      "_________________________________________________________________\n"
     ]
    }
   ],
   "source": [
    "model.summary()"
   ]
  },
  {
   "cell_type": "code",
   "execution_count": null,
   "metadata": {},
   "outputs": [],
   "source": []
  },
  {
   "cell_type": "code",
   "execution_count": null,
   "metadata": {},
   "outputs": [
    {
     "name": "stdout",
     "output_type": "stream",
     "text": [
      "Epoch 1/100\n"
     ]
    },
    {
     "name": "stderr",
     "output_type": "stream",
     "text": [
      "2023-04-26 17:46:48.133879: I tensorflow/core/common_runtime/executor.cc:1197] [/device:CPU:0] (DEBUG INFO) Executor start aborting (this does not indicate an error and you can ignore this message): INVALID_ARGUMENT: You must feed a value for placeholder tensor 'gradients/split_2_grad/concat/split_2/split_dim' with dtype int32\n",
      "\t [[{{node gradients/split_2_grad/concat/split_2/split_dim}}]]\n",
      "2023-04-26 17:46:48.135862: I tensorflow/core/common_runtime/executor.cc:1197] [/device:CPU:0] (DEBUG INFO) Executor start aborting (this does not indicate an error and you can ignore this message): INVALID_ARGUMENT: You must feed a value for placeholder tensor 'gradients/split_grad/concat/split/split_dim' with dtype int32\n",
      "\t [[{{node gradients/split_grad/concat/split/split_dim}}]]\n",
      "2023-04-26 17:46:48.137293: I tensorflow/core/common_runtime/executor.cc:1197] [/device:CPU:0] (DEBUG INFO) Executor start aborting (this does not indicate an error and you can ignore this message): INVALID_ARGUMENT: You must feed a value for placeholder tensor 'gradients/split_1_grad/concat/split_1/split_dim' with dtype int32\n",
      "\t [[{{node gradients/split_1_grad/concat/split_1/split_dim}}]]\n",
      "2023-04-26 17:46:48.334655: I tensorflow/core/common_runtime/executor.cc:1197] [/device:CPU:0] (DEBUG INFO) Executor start aborting (this does not indicate an error and you can ignore this message): INVALID_ARGUMENT: You must feed a value for placeholder tensor 'gradients/split_2_grad/concat/split_2/split_dim' with dtype int32\n",
      "\t [[{{node gradients/split_2_grad/concat/split_2/split_dim}}]]\n",
      "2023-04-26 17:46:48.337948: I tensorflow/core/common_runtime/executor.cc:1197] [/device:CPU:0] (DEBUG INFO) Executor start aborting (this does not indicate an error and you can ignore this message): INVALID_ARGUMENT: You must feed a value for placeholder tensor 'gradients/split_grad/concat/split/split_dim' with dtype int32\n",
      "\t [[{{node gradients/split_grad/concat/split/split_dim}}]]\n",
      "2023-04-26 17:46:48.340217: I tensorflow/core/common_runtime/executor.cc:1197] [/device:CPU:0] (DEBUG INFO) Executor start aborting (this does not indicate an error and you can ignore this message): INVALID_ARGUMENT: You must feed a value for placeholder tensor 'gradients/split_1_grad/concat/split_1/split_dim' with dtype int32\n",
      "\t [[{{node gradients/split_1_grad/concat/split_1/split_dim}}]]\n",
      "2023-04-26 17:46:48.543418: I tensorflow/core/common_runtime/executor.cc:1197] [/device:CPU:0] (DEBUG INFO) Executor start aborting (this does not indicate an error and you can ignore this message): INVALID_ARGUMENT: You must feed a value for placeholder tensor 'gradients/split_2_grad/concat/split_2/split_dim' with dtype int32\n",
      "\t [[{{node gradients/split_2_grad/concat/split_2/split_dim}}]]\n",
      "2023-04-26 17:46:48.545034: I tensorflow/core/common_runtime/executor.cc:1197] [/device:CPU:0] (DEBUG INFO) Executor start aborting (this does not indicate an error and you can ignore this message): INVALID_ARGUMENT: You must feed a value for placeholder tensor 'gradients/split_grad/concat/split/split_dim' with dtype int32\n",
      "\t [[{{node gradients/split_grad/concat/split/split_dim}}]]\n",
      "2023-04-26 17:46:48.546198: I tensorflow/core/common_runtime/executor.cc:1197] [/device:CPU:0] (DEBUG INFO) Executor start aborting (this does not indicate an error and you can ignore this message): INVALID_ARGUMENT: You must feed a value for placeholder tensor 'gradients/split_1_grad/concat/split_1/split_dim' with dtype int32\n",
      "\t [[{{node gradients/split_1_grad/concat/split_1/split_dim}}]]\n",
      "2023-04-26 17:46:49.605753: I tensorflow/core/common_runtime/executor.cc:1197] [/device:CPU:0] (DEBUG INFO) Executor start aborting (this does not indicate an error and you can ignore this message): INVALID_ARGUMENT: You must feed a value for placeholder tensor 'gradients/split_2_grad/concat/split_2/split_dim' with dtype int32\n",
      "\t [[{{node gradients/split_2_grad/concat/split_2/split_dim}}]]\n",
      "2023-04-26 17:46:49.608516: I tensorflow/core/common_runtime/executor.cc:1197] [/device:CPU:0] (DEBUG INFO) Executor start aborting (this does not indicate an error and you can ignore this message): INVALID_ARGUMENT: You must feed a value for placeholder tensor 'gradients/split_grad/concat/split/split_dim' with dtype int32\n",
      "\t [[{{node gradients/split_grad/concat/split/split_dim}}]]\n",
      "2023-04-26 17:46:49.609993: I tensorflow/core/common_runtime/executor.cc:1197] [/device:CPU:0] (DEBUG INFO) Executor start aborting (this does not indicate an error and you can ignore this message): INVALID_ARGUMENT: You must feed a value for placeholder tensor 'gradients/split_1_grad/concat/split_1/split_dim' with dtype int32\n",
      "\t [[{{node gradients/split_1_grad/concat/split_1/split_dim}}]]\n",
      "2023-04-26 17:46:49.804996: I tensorflow/core/common_runtime/executor.cc:1197] [/device:CPU:0] (DEBUG INFO) Executor start aborting (this does not indicate an error and you can ignore this message): INVALID_ARGUMENT: You must feed a value for placeholder tensor 'gradients/split_2_grad/concat/split_2/split_dim' with dtype int32\n",
      "\t [[{{node gradients/split_2_grad/concat/split_2/split_dim}}]]\n",
      "2023-04-26 17:46:49.807906: I tensorflow/core/common_runtime/executor.cc:1197] [/device:CPU:0] (DEBUG INFO) Executor start aborting (this does not indicate an error and you can ignore this message): INVALID_ARGUMENT: You must feed a value for placeholder tensor 'gradients/split_grad/concat/split/split_dim' with dtype int32\n",
      "\t [[{{node gradients/split_grad/concat/split/split_dim}}]]\n",
      "2023-04-26 17:46:49.810205: I tensorflow/core/common_runtime/executor.cc:1197] [/device:CPU:0] (DEBUG INFO) Executor start aborting (this does not indicate an error and you can ignore this message): INVALID_ARGUMENT: You must feed a value for placeholder tensor 'gradients/split_1_grad/concat/split_1/split_dim' with dtype int32\n",
      "\t [[{{node gradients/split_1_grad/concat/split_1/split_dim}}]]\n",
      "2023-04-26 17:46:50.016812: I tensorflow/core/common_runtime/executor.cc:1197] [/device:CPU:0] (DEBUG INFO) Executor start aborting (this does not indicate an error and you can ignore this message): INVALID_ARGUMENT: You must feed a value for placeholder tensor 'gradients/split_2_grad/concat/split_2/split_dim' with dtype int32\n",
      "\t [[{{node gradients/split_2_grad/concat/split_2/split_dim}}]]\n",
      "2023-04-26 17:46:50.018704: I tensorflow/core/common_runtime/executor.cc:1197] [/device:CPU:0] (DEBUG INFO) Executor start aborting (this does not indicate an error and you can ignore this message): INVALID_ARGUMENT: You must feed a value for placeholder tensor 'gradients/split_grad/concat/split/split_dim' with dtype int32\n",
      "\t [[{{node gradients/split_grad/concat/split/split_dim}}]]\n",
      "2023-04-26 17:46:50.020088: I tensorflow/core/common_runtime/executor.cc:1197] [/device:CPU:0] (DEBUG INFO) Executor start aborting (this does not indicate an error and you can ignore this message): INVALID_ARGUMENT: You must feed a value for placeholder tensor 'gradients/split_1_grad/concat/split_1/split_dim' with dtype int32\n",
      "\t [[{{node gradients/split_1_grad/concat/split_1/split_dim}}]]\n"
     ]
    },
    {
     "name": "stdout",
     "output_type": "stream",
     "text": [
      "23/23 [==============================] - ETA: 0s - loss: 0.0234"
     ]
    },
    {
     "name": "stderr",
     "output_type": "stream",
     "text": [
      "2023-04-26 17:46:56.330837: I tensorflow/core/common_runtime/executor.cc:1197] [/device:CPU:0] (DEBUG INFO) Executor start aborting (this does not indicate an error and you can ignore this message): INVALID_ARGUMENT: You must feed a value for placeholder tensor 'gradients/split_2_grad/concat/split_2/split_dim' with dtype int32\n",
      "\t [[{{node gradients/split_2_grad/concat/split_2/split_dim}}]]\n",
      "2023-04-26 17:46:56.332240: I tensorflow/core/common_runtime/executor.cc:1197] [/device:CPU:0] (DEBUG INFO) Executor start aborting (this does not indicate an error and you can ignore this message): INVALID_ARGUMENT: You must feed a value for placeholder tensor 'gradients/split_grad/concat/split/split_dim' with dtype int32\n",
      "\t [[{{node gradients/split_grad/concat/split/split_dim}}]]\n",
      "2023-04-26 17:46:56.333434: I tensorflow/core/common_runtime/executor.cc:1197] [/device:CPU:0] (DEBUG INFO) Executor start aborting (this does not indicate an error and you can ignore this message): INVALID_ARGUMENT: You must feed a value for placeholder tensor 'gradients/split_1_grad/concat/split_1/split_dim' with dtype int32\n",
      "\t [[{{node gradients/split_1_grad/concat/split_1/split_dim}}]]\n",
      "2023-04-26 17:46:56.547179: I tensorflow/core/common_runtime/executor.cc:1197] [/device:CPU:0] (DEBUG INFO) Executor start aborting (this does not indicate an error and you can ignore this message): INVALID_ARGUMENT: You must feed a value for placeholder tensor 'gradients/split_2_grad/concat/split_2/split_dim' with dtype int32\n",
      "\t [[{{node gradients/split_2_grad/concat/split_2/split_dim}}]]\n",
      "2023-04-26 17:46:56.548964: I tensorflow/core/common_runtime/executor.cc:1197] [/device:CPU:0] (DEBUG INFO) Executor start aborting (this does not indicate an error and you can ignore this message): INVALID_ARGUMENT: You must feed a value for placeholder tensor 'gradients/split_grad/concat/split/split_dim' with dtype int32\n",
      "\t [[{{node gradients/split_grad/concat/split/split_dim}}]]\n",
      "2023-04-26 17:46:56.550533: I tensorflow/core/common_runtime/executor.cc:1197] [/device:CPU:0] (DEBUG INFO) Executor start aborting (this does not indicate an error and you can ignore this message): INVALID_ARGUMENT: You must feed a value for placeholder tensor 'gradients/split_1_grad/concat/split_1/split_dim' with dtype int32\n",
      "\t [[{{node gradients/split_1_grad/concat/split_1/split_dim}}]]\n",
      "2023-04-26 17:46:56.782410: I tensorflow/core/common_runtime/executor.cc:1197] [/device:CPU:0] (DEBUG INFO) Executor start aborting (this does not indicate an error and you can ignore this message): INVALID_ARGUMENT: You must feed a value for placeholder tensor 'gradients/split_2_grad/concat/split_2/split_dim' with dtype int32\n",
      "\t [[{{node gradients/split_2_grad/concat/split_2/split_dim}}]]\n",
      "2023-04-26 17:46:56.784405: I tensorflow/core/common_runtime/executor.cc:1197] [/device:CPU:0] (DEBUG INFO) Executor start aborting (this does not indicate an error and you can ignore this message): INVALID_ARGUMENT: You must feed a value for placeholder tensor 'gradients/split_grad/concat/split/split_dim' with dtype int32\n",
      "\t [[{{node gradients/split_grad/concat/split/split_dim}}]]\n",
      "2023-04-26 17:46:56.785748: I tensorflow/core/common_runtime/executor.cc:1197] [/device:CPU:0] (DEBUG INFO) Executor start aborting (this does not indicate an error and you can ignore this message): INVALID_ARGUMENT: You must feed a value for placeholder tensor 'gradients/split_1_grad/concat/split_1/split_dim' with dtype int32\n",
      "\t [[{{node gradients/split_1_grad/concat/split_1/split_dim}}]]\n"
     ]
    },
    {
     "name": "stdout",
     "output_type": "stream",
     "text": [
      "23/23 [==============================] - 10s 237ms/step - loss: 0.0234 - val_loss: 0.0065\n",
      "Epoch 2/100\n",
      "23/23 [==============================] - 5s 201ms/step - loss: 0.0022 - val_loss: 0.0077\n",
      "Epoch 3/100\n",
      "23/23 [==============================] - 4s 187ms/step - loss: 0.0012 - val_loss: 0.0047\n",
      "Epoch 4/100\n",
      "23/23 [==============================] - 4s 154ms/step - loss: 0.0012 - val_loss: 0.0048\n",
      "Epoch 5/100\n",
      "23/23 [==============================] - 4s 166ms/step - loss: 0.0010 - val_loss: 0.0043\n",
      "Epoch 6/100\n",
      "23/23 [==============================] - 4s 186ms/step - loss: 9.9643e-04 - val_loss: 0.0054\n",
      "Epoch 7/100\n",
      "23/23 [==============================] - 3s 153ms/step - loss: 9.3720e-04 - val_loss: 0.0064\n",
      "Epoch 8/100\n",
      "23/23 [==============================] - 4s 166ms/step - loss: 9.0045e-04 - val_loss: 0.0056\n",
      "Epoch 9/100\n",
      "23/23 [==============================] - 3s 120ms/step - loss: 8.4478e-04 - val_loss: 0.0071\n",
      "Epoch 10/100\n",
      "23/23 [==============================] - 4s 187ms/step - loss: 8.8354e-04 - val_loss: 0.0069\n",
      "Epoch 11/100\n",
      "23/23 [==============================] - 4s 175ms/step - loss: 8.5569e-04 - val_loss: 0.0072\n",
      "Epoch 12/100\n",
      "23/23 [==============================] - 4s 168ms/step - loss: 7.4540e-04 - val_loss: 0.0052\n",
      "Epoch 13/100\n",
      "23/23 [==============================] - 4s 172ms/step - loss: 6.9483e-04 - val_loss: 0.0062\n",
      "Epoch 14/100\n",
      "23/23 [==============================] - 4s 174ms/step - loss: 6.7059e-04 - val_loss: 0.0057\n",
      "Epoch 15/100\n",
      "23/23 [==============================] - 4s 165ms/step - loss: 6.8191e-04 - val_loss: 0.0064\n",
      "Epoch 16/100\n",
      "23/23 [==============================] - 4s 169ms/step - loss: 6.3723e-04 - val_loss: 0.0059\n",
      "Epoch 17/100\n",
      "23/23 [==============================] - 4s 167ms/step - loss: 6.0421e-04 - val_loss: 0.0045\n",
      "Epoch 18/100\n",
      "23/23 [==============================] - 4s 164ms/step - loss: 5.6266e-04 - val_loss: 0.0045\n",
      "Epoch 19/100\n",
      "23/23 [==============================] - 4s 177ms/step - loss: 5.9613e-04 - val_loss: 0.0054\n",
      "Epoch 20/100\n",
      "23/23 [==============================] - 4s 173ms/step - loss: 7.5170e-04 - val_loss: 0.0098\n",
      "Epoch 21/100\n",
      "23/23 [==============================] - 4s 183ms/step - loss: 5.7675e-04 - val_loss: 0.0030\n",
      "Epoch 22/100\n",
      "23/23 [==============================] - 4s 180ms/step - loss: 5.3629e-04 - val_loss: 0.0027\n",
      "Epoch 23/100\n",
      "23/23 [==============================] - 4s 197ms/step - loss: 5.5447e-04 - val_loss: 0.0033\n",
      "Epoch 24/100\n",
      "23/23 [==============================] - 4s 191ms/step - loss: 4.8421e-04 - val_loss: 0.0029\n",
      "Epoch 25/100\n",
      "23/23 [==============================] - 5s 199ms/step - loss: 5.0550e-04 - val_loss: 0.0050\n",
      "Epoch 26/100\n",
      "23/23 [==============================] - 5s 226ms/step - loss: 4.9650e-04 - val_loss: 0.0051\n",
      "Epoch 27/100\n",
      "23/23 [==============================] - 5s 218ms/step - loss: 5.1952e-04 - val_loss: 0.0049\n",
      "Epoch 28/100\n",
      "23/23 [==============================] - 4s 183ms/step - loss: 4.6210e-04 - val_loss: 0.0031\n",
      "Epoch 29/100\n",
      "23/23 [==============================] - 4s 190ms/step - loss: 4.3377e-04 - val_loss: 0.0023\n",
      "Epoch 30/100\n",
      "23/23 [==============================] - 4s 197ms/step - loss: 4.4262e-04 - val_loss: 0.0026\n",
      "Epoch 31/100\n",
      "23/23 [==============================] - 5s 203ms/step - loss: 4.0706e-04 - val_loss: 0.0030\n",
      "Epoch 32/100\n",
      "23/23 [==============================] - 4s 191ms/step - loss: 4.1917e-04 - val_loss: 0.0018\n",
      "Epoch 33/100\n",
      "23/23 [==============================] - 4s 189ms/step - loss: 4.0902e-04 - val_loss: 0.0022\n",
      "Epoch 34/100\n",
      "23/23 [==============================] - 4s 194ms/step - loss: 3.9201e-04 - val_loss: 0.0038\n",
      "Epoch 35/100\n",
      "23/23 [==============================] - 6s 274ms/step - loss: 3.7879e-04 - val_loss: 0.0029\n",
      "Epoch 36/100\n",
      "23/23 [==============================] - 5s 233ms/step - loss: 4.7395e-04 - val_loss: 0.0033\n",
      "Epoch 37/100\n",
      "23/23 [==============================] - 5s 201ms/step - loss: 3.8027e-04 - val_loss: 0.0018\n",
      "Epoch 38/100\n",
      "23/23 [==============================] - 5s 207ms/step - loss: 3.5563e-04 - val_loss: 0.0021\n",
      "Epoch 39/100\n",
      "23/23 [==============================] - 5s 211ms/step - loss: 3.8484e-04 - val_loss: 0.0020\n",
      "Epoch 40/100\n",
      "23/23 [==============================] - 5s 210ms/step - loss: 4.3418e-04 - val_loss: 0.0012\n",
      "Epoch 41/100\n",
      "23/23 [==============================] - 5s 206ms/step - loss: 3.7806e-04 - val_loss: 0.0024\n",
      "Epoch 42/100\n",
      "23/23 [==============================] - 5s 208ms/step - loss: 3.2518e-04 - val_loss: 0.0020\n",
      "Epoch 43/100\n",
      "23/23 [==============================] - 5s 206ms/step - loss: 3.2364e-04 - val_loss: 0.0019\n",
      "Epoch 44/100\n",
      "23/23 [==============================] - 5s 210ms/step - loss: 3.1079e-04 - val_loss: 0.0019\n",
      "Epoch 45/100\n",
      "23/23 [==============================] - 5s 206ms/step - loss: 3.1520e-04 - val_loss: 0.0015\n",
      "Epoch 46/100\n",
      "23/23 [==============================] - 5s 209ms/step - loss: 3.1205e-04 - val_loss: 0.0023\n",
      "Epoch 47/100\n",
      "23/23 [==============================] - 5s 212ms/step - loss: 2.9108e-04 - val_loss: 0.0032\n",
      "Epoch 48/100\n",
      "23/23 [==============================] - 4s 195ms/step - loss: 3.0536e-04 - val_loss: 0.0018\n",
      "Epoch 49/100\n",
      "23/23 [==============================] - 5s 204ms/step - loss: 3.1741e-04 - val_loss: 0.0011\n",
      "Epoch 50/100\n",
      "23/23 [==============================] - 5s 218ms/step - loss: 2.8833e-04 - val_loss: 0.0025\n",
      "Epoch 51/100\n",
      "23/23 [==============================] - 5s 224ms/step - loss: 2.9876e-04 - val_loss: 0.0020\n",
      "Epoch 52/100\n",
      "23/23 [==============================] - 5s 201ms/step - loss: 2.9701e-04 - val_loss: 0.0023\n",
      "Epoch 53/100\n",
      "23/23 [==============================] - 4s 194ms/step - loss: 3.5688e-04 - val_loss: 0.0014\n",
      "Epoch 54/100\n",
      "23/23 [==============================] - 5s 204ms/step - loss: 2.6327e-04 - val_loss: 0.0014\n",
      "Epoch 55/100\n",
      "23/23 [==============================] - 5s 203ms/step - loss: 2.4665e-04 - val_loss: 0.0011\n",
      "Epoch 56/100\n",
      "23/23 [==============================] - 5s 205ms/step - loss: 2.4809e-04 - val_loss: 0.0015\n",
      "Epoch 57/100\n",
      "23/23 [==============================] - 4s 180ms/step - loss: 2.4661e-04 - val_loss: 0.0015\n",
      "Epoch 58/100\n",
      "23/23 [==============================] - 4s 183ms/step - loss: 2.4331e-04 - val_loss: 0.0019\n",
      "Epoch 59/100\n",
      "23/23 [==============================] - 4s 171ms/step - loss: 2.3582e-04 - val_loss: 9.1845e-04\n",
      "Epoch 60/100\n",
      "23/23 [==============================] - 4s 192ms/step - loss: 2.4800e-04 - val_loss: 0.0016\n",
      "Epoch 61/100\n",
      "23/23 [==============================] - 4s 167ms/step - loss: 2.2183e-04 - val_loss: 0.0011\n",
      "Epoch 62/100\n",
      "23/23 [==============================] - 4s 166ms/step - loss: 2.6057e-04 - val_loss: 0.0016\n",
      "Epoch 63/100\n",
      "23/23 [==============================] - 4s 170ms/step - loss: 2.6696e-04 - val_loss: 7.3200e-04\n",
      "Epoch 64/100\n",
      "23/23 [==============================] - 4s 167ms/step - loss: 2.2666e-04 - val_loss: 0.0016\n",
      "Epoch 65/100\n",
      "23/23 [==============================] - 4s 174ms/step - loss: 2.2012e-04 - val_loss: 9.7885e-04\n",
      "Epoch 66/100\n",
      "23/23 [==============================] - 4s 168ms/step - loss: 2.1578e-04 - val_loss: 7.3512e-04\n",
      "Epoch 67/100\n",
      "23/23 [==============================] - 4s 161ms/step - loss: 2.2537e-04 - val_loss: 0.0014\n",
      "Epoch 68/100\n",
      "23/23 [==============================] - 4s 153ms/step - loss: 1.9857e-04 - val_loss: 8.4621e-04\n",
      "Epoch 69/100\n",
      "23/23 [==============================] - 3s 153ms/step - loss: 1.9273e-04 - val_loss: 7.3650e-04\n",
      "Epoch 70/100\n",
      "23/23 [==============================] - 4s 156ms/step - loss: 2.0472e-04 - val_loss: 6.3883e-04\n",
      "Epoch 71/100\n",
      "23/23 [==============================] - 3s 152ms/step - loss: 2.2072e-04 - val_loss: 6.4611e-04\n",
      "Epoch 72/100\n",
      "23/23 [==============================] - 4s 158ms/step - loss: 1.9370e-04 - val_loss: 6.2781e-04\n",
      "Epoch 73/100\n",
      "23/23 [==============================] - 4s 170ms/step - loss: 2.0033e-04 - val_loss: 6.4011e-04\n",
      "Epoch 74/100\n",
      "23/23 [==============================] - 4s 157ms/step - loss: 2.1414e-04 - val_loss: 7.0029e-04\n",
      "Epoch 75/100\n",
      "23/23 [==============================] - 3s 153ms/step - loss: 2.6689e-04 - val_loss: 7.0550e-04\n",
      "Epoch 76/100\n",
      "23/23 [==============================] - 3s 153ms/step - loss: 1.9363e-04 - val_loss: 0.0015\n",
      "Epoch 77/100\n",
      "23/23 [==============================] - 4s 156ms/step - loss: 2.4285e-04 - val_loss: 8.9061e-04\n",
      "Epoch 78/100\n",
      "23/23 [==============================] - 4s 160ms/step - loss: 1.8628e-04 - val_loss: 9.9415e-04\n",
      "Epoch 79/100\n",
      "23/23 [==============================] - 4s 163ms/step - loss: 1.8837e-04 - val_loss: 0.0014\n",
      "Epoch 80/100\n",
      "23/23 [==============================] - 4s 154ms/step - loss: 1.9510e-04 - val_loss: 5.7666e-04\n",
      "Epoch 81/100\n",
      "23/23 [==============================] - 4s 157ms/step - loss: 1.6929e-04 - val_loss: 5.6364e-04\n",
      "Epoch 82/100\n",
      "23/23 [==============================] - 3s 153ms/step - loss: 1.7273e-04 - val_loss: 7.1228e-04\n",
      "Epoch 83/100\n",
      "23/23 [==============================] - 3s 151ms/step - loss: 1.5640e-04 - val_loss: 8.7307e-04\n",
      "Epoch 84/100\n",
      "23/23 [==============================] - 4s 153ms/step - loss: 1.5318e-04 - val_loss: 5.6225e-04\n",
      "Epoch 85/100\n",
      "23/23 [==============================] - 3s 152ms/step - loss: 1.5680e-04 - val_loss: 7.3609e-04\n",
      "Epoch 86/100\n",
      "23/23 [==============================] - 4s 161ms/step - loss: 1.5322e-04 - val_loss: 0.0010\n",
      "Epoch 87/100\n",
      "23/23 [==============================] - 4s 158ms/step - loss: 1.6065e-04 - val_loss: 5.3611e-04\n",
      "Epoch 88/100\n",
      "23/23 [==============================] - 4s 154ms/step - loss: 1.9631e-04 - val_loss: 6.6851e-04\n",
      "Epoch 89/100\n",
      "23/23 [==============================] - 4s 154ms/step - loss: 1.8937e-04 - val_loss: 8.2122e-04\n",
      "Epoch 90/100\n",
      "23/23 [==============================] - 4s 157ms/step - loss: 1.8618e-04 - val_loss: 9.6448e-04\n",
      "Epoch 91/100\n",
      "23/23 [==============================] - 3s 153ms/step - loss: 1.7408e-04 - val_loss: 5.4167e-04\n",
      "Epoch 92/100\n",
      "23/23 [==============================] - 4s 157ms/step - loss: 1.5380e-04 - val_loss: 5.2510e-04\n",
      "Epoch 93/100\n",
      "23/23 [==============================] - 3s 151ms/step - loss: 1.6436e-04 - val_loss: 5.2486e-04\n",
      "Epoch 94/100\n",
      "23/23 [==============================] - 4s 154ms/step - loss: 1.5511e-04 - val_loss: 8.4559e-04\n",
      "Epoch 95/100\n",
      "23/23 [==============================] - 4s 153ms/step - loss: 1.6504e-04 - val_loss: 8.5801e-04\n",
      "Epoch 96/100\n",
      "23/23 [==============================] - 3s 152ms/step - loss: 1.4803e-04 - val_loss: 5.1512e-04\n",
      "Epoch 97/100\n",
      "23/23 [==============================] - 4s 154ms/step - loss: 1.4478e-04 - val_loss: 6.4846e-04\n",
      "Epoch 98/100\n",
      "23/23 [==============================] - 3s 152ms/step - loss: 1.4744e-04 - val_loss: 7.1158e-04\n",
      "Epoch 99/100\n",
      "23/23 [==============================] - 4s 154ms/step - loss: 1.4266e-04 - val_loss: 5.8431e-04\n",
      "Epoch 100/100\n",
      "23/23 [==============================] - 3s 149ms/step - loss: 1.5027e-04 - val_loss: 5.1983e-04\n"
     ]
    },
    {
     "data": {
      "text/plain": [
       "<keras.callbacks.History at 0x7f2fea12a590>"
      ]
     },
     "execution_count": 78,
     "metadata": {},
     "output_type": "execute_result"
    }
   ],
   "source": [
    "model.fit(X_train,y_train,validation_data=(X_test,ytest),epochs=100,batch_size=64,verbose=1)"
   ]
  },
  {
   "cell_type": "code",
   "execution_count": null,
   "metadata": {},
   "outputs": [],
   "source": [
    "import tensorflow as tf"
   ]
  },
  {
   "cell_type": "code",
   "execution_count": null,
   "metadata": {},
   "outputs": [
    {
     "data": {
      "text/plain": [
       "'2.12.0'"
      ]
     },
     "execution_count": 80,
     "metadata": {},
     "output_type": "execute_result"
    }
   ],
   "source": [
    "tf.__version__"
   ]
  },
  {
   "cell_type": "code",
   "execution_count": null,
   "metadata": {},
   "outputs": [
    {
     "name": "stderr",
     "output_type": "stream",
     "text": [
      "2023-04-26 17:53:40.625736: I tensorflow/core/common_runtime/executor.cc:1197] [/device:CPU:0] (DEBUG INFO) Executor start aborting (this does not indicate an error and you can ignore this message): INVALID_ARGUMENT: You must feed a value for placeholder tensor 'gradients/split_2_grad/concat/split_2/split_dim' with dtype int32\n",
      "\t [[{{node gradients/split_2_grad/concat/split_2/split_dim}}]]\n",
      "2023-04-26 17:53:40.627176: I tensorflow/core/common_runtime/executor.cc:1197] [/device:CPU:0] (DEBUG INFO) Executor start aborting (this does not indicate an error and you can ignore this message): INVALID_ARGUMENT: You must feed a value for placeholder tensor 'gradients/split_grad/concat/split/split_dim' with dtype int32\n",
      "\t [[{{node gradients/split_grad/concat/split/split_dim}}]]\n",
      "2023-04-26 17:53:40.628320: I tensorflow/core/common_runtime/executor.cc:1197] [/device:CPU:0] (DEBUG INFO) Executor start aborting (this does not indicate an error and you can ignore this message): INVALID_ARGUMENT: You must feed a value for placeholder tensor 'gradients/split_1_grad/concat/split_1/split_dim' with dtype int32\n",
      "\t [[{{node gradients/split_1_grad/concat/split_1/split_dim}}]]\n",
      "2023-04-26 17:53:40.808211: I tensorflow/core/common_runtime/executor.cc:1197] [/device:CPU:0] (DEBUG INFO) Executor start aborting (this does not indicate an error and you can ignore this message): INVALID_ARGUMENT: You must feed a value for placeholder tensor 'gradients/split_2_grad/concat/split_2/split_dim' with dtype int32\n",
      "\t [[{{node gradients/split_2_grad/concat/split_2/split_dim}}]]\n",
      "2023-04-26 17:53:40.809426: I tensorflow/core/common_runtime/executor.cc:1197] [/device:CPU:0] (DEBUG INFO) Executor start aborting (this does not indicate an error and you can ignore this message): INVALID_ARGUMENT: You must feed a value for placeholder tensor 'gradients/split_grad/concat/split/split_dim' with dtype int32\n",
      "\t [[{{node gradients/split_grad/concat/split/split_dim}}]]\n",
      "2023-04-26 17:53:40.810453: I tensorflow/core/common_runtime/executor.cc:1197] [/device:CPU:0] (DEBUG INFO) Executor start aborting (this does not indicate an error and you can ignore this message): INVALID_ARGUMENT: You must feed a value for placeholder tensor 'gradients/split_1_grad/concat/split_1/split_dim' with dtype int32\n",
      "\t [[{{node gradients/split_1_grad/concat/split_1/split_dim}}]]\n",
      "2023-04-26 17:53:40.985297: I tensorflow/core/common_runtime/executor.cc:1197] [/device:CPU:0] (DEBUG INFO) Executor start aborting (this does not indicate an error and you can ignore this message): INVALID_ARGUMENT: You must feed a value for placeholder tensor 'gradients/split_2_grad/concat/split_2/split_dim' with dtype int32\n",
      "\t [[{{node gradients/split_2_grad/concat/split_2/split_dim}}]]\n",
      "2023-04-26 17:53:40.986929: I tensorflow/core/common_runtime/executor.cc:1197] [/device:CPU:0] (DEBUG INFO) Executor start aborting (this does not indicate an error and you can ignore this message): INVALID_ARGUMENT: You must feed a value for placeholder tensor 'gradients/split_grad/concat/split/split_dim' with dtype int32\n",
      "\t [[{{node gradients/split_grad/concat/split/split_dim}}]]\n",
      "2023-04-26 17:53:40.988016: I tensorflow/core/common_runtime/executor.cc:1197] [/device:CPU:0] (DEBUG INFO) Executor start aborting (this does not indicate an error and you can ignore this message): INVALID_ARGUMENT: You must feed a value for placeholder tensor 'gradients/split_1_grad/concat/split_1/split_dim' with dtype int32\n",
      "\t [[{{node gradients/split_1_grad/concat/split_1/split_dim}}]]\n"
     ]
    },
    {
     "name": "stdout",
     "output_type": "stream",
     "text": [
      "46/46 [==============================] - 2s 27ms/step\n",
      "24/24 [==============================] - 1s 26ms/step\n"
     ]
    }
   ],
   "source": [
    "### Lets Do the prediction and check performance metrics\n",
    "train_predict=model.predict(X_train)\n",
    "test_predict=model.predict(X_test)"
   ]
  },
  {
   "cell_type": "code",
   "execution_count": null,
   "metadata": {},
   "outputs": [],
   "source": [
    "##Transformback to original form\n",
    "train_predict=scaler.inverse_transform(train_predict)\n",
    "test_predict=scaler.inverse_transform(test_predict)\n",
    "test_predict"
   ]
  },
  {
   "cell_type": "code",
   "execution_count": null,
   "metadata": {},
   "outputs": [
    {
     "data": {
      "text/plain": [
       "162.16529144446275"
      ]
     },
     "execution_count": 83,
     "metadata": {},
     "output_type": "execute_result"
    }
   ],
   "source": [
    "### Calculate RMSE performance metrics\n",
    "import math\n",
    "from sklearn.metrics import mean_squared_error\n",
    "math.sqrt(mean_squared_error(y_train,train_predict))"
   ]
  },
  {
   "cell_type": "code",
   "execution_count": null,
   "metadata": {},
   "outputs": [
    {
     "data": {
      "text/plain": [
       "304.4383936641161"
      ]
     },
     "execution_count": 84,
     "metadata": {},
     "output_type": "execute_result"
    }
   ],
   "source": [
    "### Test Data RMSE\n",
    "math.sqrt(mean_squared_error(ytest,test_predict))"
   ]
  },
  {
   "cell_type": "code",
   "execution_count": null,
   "metadata": {},
   "outputs": [
    {
     "data": {
      "image/png": "[encoded data removed]",
      "text/plain": [
       "<Figure size 640x480 with 1 Axes>"
      ]
     },
     "metadata": {},
     "output_type": "display_data"
    }
   ],
   "source": [
    "### Plotting \n",
    "# shift train predictions for plotting\n",
    "look_back=100\n",
    "trainPredictPlot = numpy.empty_like(df1)\n",
    "trainPredictPlot[:, :] = np.nan\n",
    "trainPredictPlot[look_back:len(train_predict)+look_back, :] = train_predict\n",
    "# shift test predictions for plotting\n",
    "testPredictPlot = numpy.empty_like(df1)\n",
    "testPredictPlot[:, :] = numpy.nan\n",
    "testPredictPlot[len(train_predict)+(look_back*2)+1:len(df1)-1, :] = test_predict\n",
    "# plot baseline and predictions\n",
    "plt.plot(scaler.inverse_transform(df1))\n",
    "plt.plot(trainPredictPlot)\n",
    "plt.plot(testPredictPlot)\n",
    "plt.show()"
   ]
  },
  {
   "cell_type": "code",
   "execution_count": null,
   "metadata": {},
   "outputs": [
    {
     "data": {
      "text/plain": [
       "838"
      ]
     },
     "execution_count": 86,
     "metadata": {},
     "output_type": "execute_result"
    }
   ],
   "source": [
    "len(test_data)"
   ]
  },
  {
   "cell_type": "code",
   "execution_count": null,
   "metadata": {},
   "outputs": [
    {
     "data": {
      "text/plain": [
       "(1, 100)"
      ]
     },
     "execution_count": 87,
     "metadata": {},
     "output_type": "execute_result"
    }
   ],
   "source": [
    "x_input=test_data[(len(test_data)-100):].reshape(1,-1)\n",
    "x_input.shape\n"
   ]
  },
  {
   "cell_type": "code",
   "execution_count": null,
   "metadata": {},
   "outputs": [],
   "source": []
  },
  {
   "cell_type": "code",
   "execution_count": null,
   "metadata": {},
   "outputs": [],
   "source": []
  },
  {
   "cell_type": "code",
   "execution_count": null,
   "metadata": {},
   "outputs": [],
   "source": [
    "temp_input=list(x_input)\n",
    "temp_input=temp_input[0].tolist()"
   ]
  },
  {
   "cell_type": "code",
   "execution_count": null,
   "metadata": {},
   "outputs": [
    {
     "data": {
      "text/plain": [
       "[0.5280387193330505,\n",
       " 0.5135857637732536,\n",
       " 0.5280146431179138,\n",
       " 0.4909668883221714,\n",
       " 0.48137977076947647,\n",
       " 0.49173772948047534,\n",
       " 0.5083345401149756,\n",
       " 0.5059979765573158,\n",
       " 0.4938815845551786,\n",
       " 0.49706121550772653,\n",
       " 0.4711663367964237,\n",
       " 0.47983812458525743,\n",
       " 0.4776220095504071,\n",
       " 0.4812593222466671,\n",
       " 0.4960013634147451,\n",
       " 0.5053957700756576,\n",
       " 0.5039504600667223,\n",
       " 0.49352023898675035,\n",
       " 0.5149588114132158,\n",
       " 0.5098280001453582,\n",
       " 0.520282295031641,\n",
       " 0.529315392256514,\n",
       " 0.5571614512831264,\n",
       " 0.5541985688962828,\n",
       " 0.5525846603430907,\n",
       " 0.5468275687872642,\n",
       " 0.5515970320778676,\n",
       " 0.5484655872791561,\n",
       " 0.55595703831981,\n",
       " 0.5415522327814606,\n",
       " 0.5430216190055326,\n",
       " 0.49961460230469434,\n",
       " 0.5128390325536493,\n",
       " 0.546225362305606,\n",
       " 0.5451895840189355,\n",
       " 0.5421544392631188,\n",
       " 0.5513561711646376,\n",
       " 0.5475984099455683,\n",
       " 0.5232692536336212,\n",
       " 0.5194151176980532,\n",
       " 0.534566652047181,\n",
       " 0.5401792212738873,\n",
       " 0.5509707517898986,\n",
       " 0.5514766196874471,\n",
       " 0.5590644069033849,\n",
       " 0.5809124387873371,\n",
       " 0.583152704710928,\n",
       " 0.5876330848020761,\n",
       " 0.5929806807680269,\n",
       " 0.5808884011134153,\n",
       " 0.5725779227606209,\n",
       " 0.5775882855056691,\n",
       " 0.5754203204922662,\n",
       " 0.6838174871907431,\n",
       " 0.7523486137093578,\n",
       " 0.7513368730966091,\n",
       " 0.7236594872878573,\n",
       " 0.7207448295960649,\n",
       " 0.7205280424891457,\n",
       " 0.7166497966148779,\n",
       " 0.7266705196961484,\n",
       " 0.7260683132144902,\n",
       " 0.7486148901642103,\n",
       " 0.7701980234610107,\n",
       " 0.7740521593965788,\n",
       " 0.7932022797456171,\n",
       " 0.8048609900040422,\n",
       " 0.7956592556936973,\n",
       " 0.8034639022813321,\n",
       " 0.8102568082562182,\n",
       " 0.8050055123331623,\n",
       " 0.8279616210051471,\n",
       " 0.8103772206466388,\n",
       " 0.8166642225915874,\n",
       " 0.7641759586444287,\n",
       " 0.7721250528875799,\n",
       " 0.7542516054620051,\n",
       " 0.7599605132728212,\n",
       " 0.7567085814100855,\n",
       " 0.7685840763666038,\n",
       " 0.7717878557990662,\n",
       " 0.764151846296903,\n",
       " 0.7577443596967561,\n",
       " 0.7710411269882878,\n",
       " 0.7798092148200163,\n",
       " 0.8022353769704901,\n",
       " 0.8115334835885077,\n",
       " 0.8283470427887122,\n",
       " 0.8252397103375262,\n",
       " 0.8809076413696217,\n",
       " 0.874861464205514,\n",
       " 0.9089704489619385,\n",
       " 0.9352025994353588,\n",
       " 0.9389362483069026,\n",
       " 0.9717685577310377,\n",
       " 0.9862937756598075,\n",
       " 1.0000000000000002,\n",
       " 0.9986510647075634,\n",
       " 0.9608806910397425,\n",
       " 0.9696246689327713]"
      ]
     },
     "execution_count": 89,
     "metadata": {},
     "output_type": "execute_result"
    }
   ],
   "source": [
    "temp_input"
   ]
  },
  {
   "cell_type": "code",
   "execution_count": null,
   "metadata": {},
   "outputs": [
    {
     "name": "stdout",
     "output_type": "stream",
     "text": [
      "[0.9735691]\n",
      "101\n",
      "1 day input [0.51358576 0.52801464 0.49096689 0.48137977 0.49173773 0.50833454\n",
      " 0.50599798 0.49388158 0.49706122 0.47116634 0.47983812 0.47762201\n",
      " 0.48125932 0.49600136 0.50539577 0.50395046 0.49352024 0.51495881\n",
      " 0.509828   0.5202823  0.52931539 0.55716145 0.55419857 0.55258466\n",
      " 0.54682757 0.55159703 0.54846559 0.55595704 0.54155223 0.54302162\n",
      " 0.4996146  0.51283903 0.54622536 0.54518958 0.54215444 0.55135617\n",
      " 0.54759841 0.52326925 0.51941512 0.53456665 0.54017922 0.55097075\n",
      " 0.55147662 0.55906441 0.58091244 0.5831527  0.58763308 0.59298068\n",
      " 0.5808884  0.57257792 0.57758829 0.57542032 0.68381749 0.75234861\n",
      " 0.75133687 0.72365949 0.72074483 0.72052804 0.7166498  0.72667052\n",
      " 0.72606831 0.74861489 0.77019802 0.77405216 0.79320228 0.80486099\n",
      " 0.79565926 0.8034639  0.81025681 0.80500551 0.82796162 0.81037722\n",
      " 0.81666422 0.76417596 0.77212505 0.75425161 0.75996051 0.75670858\n",
      " 0.76858408 0.77178786 0.76415185 0.75774436 0.77104113 0.77980921\n",
      " 0.80223538 0.81153348 0.82834704 0.82523971 0.88090764 0.87486146\n",
      " 0.90897045 0.9352026  0.93893625 0.97176856 0.98629378 1.\n",
      " 0.99865106 0.96088069 0.96962467 0.9735691 ]\n",
      "1 day output [[0.9765159]]\n",
      "2 day input [0.52801464 0.49096689 0.48137977 0.49173773 0.50833454 0.50599798\n",
      " 0.49388158 0.49706122 0.47116634 0.47983812 0.47762201 0.48125932\n",
      " 0.49600136 0.50539577 0.50395046 0.49352024 0.51495881 0.509828\n",
      " 0.5202823  0.52931539 0.55716145 0.55419857 0.55258466 0.54682757\n",
      " 0.55159703 0.54846559 0.55595704 0.54155223 0.54302162 0.4996146\n",
      " 0.51283903 0.54622536 0.54518958 0.54215444 0.55135617 0.54759841\n",
      " 0.52326925 0.51941512 0.53456665 0.54017922 0.55097075 0.55147662\n",
      " 0.55906441 0.58091244 0.5831527  0.58763308 0.59298068 0.5808884\n",
      " 0.57257792 0.57758829 0.57542032 0.68381749 0.75234861 0.75133687\n",
      " 0.72365949 0.72074483 0.72052804 0.7166498  0.72667052 0.72606831\n",
      " 0.74861489 0.77019802 0.77405216 0.79320228 0.80486099 0.79565926\n",
      " 0.8034639  0.81025681 0.80500551 0.82796162 0.81037722 0.81666422\n",
      " 0.76417596 0.77212505 0.75425161 0.75996051 0.75670858 0.76858408\n",
      " 0.77178786 0.76415185 0.75774436 0.77104113 0.77980921 0.80223538\n",
      " 0.81153348 0.82834704 0.82523971 0.88090764 0.87486146 0.90897045\n",
      " 0.9352026  0.93893625 0.97176856 0.98629378 1.         0.99865106\n",
      " 0.96088069 0.96962467 0.9735691  0.97651589]\n",
      "2 day output [[0.9775648]]\n",
      "3 day input [0.49096689 0.48137977 0.49173773 0.50833454 0.50599798 0.49388158\n",
      " 0.49706122 0.47116634 0.47983812 0.47762201 0.48125932 0.49600136\n",
      " 0.50539577 0.50395046 0.49352024 0.51495881 0.509828   0.5202823\n",
      " 0.52931539 0.55716145 0.55419857 0.55258466 0.54682757 0.55159703\n",
      " 0.54846559 0.55595704 0.54155223 0.54302162 0.4996146  0.51283903\n",
      " 0.54622536 0.54518958 0.54215444 0.55135617 0.54759841 0.52326925\n",
      " 0.51941512 0.53456665 0.54017922 0.55097075 0.55147662 0.55906441\n",
      " 0.58091244 0.5831527  0.58763308 0.59298068 0.5808884  0.57257792\n",
      " 0.57758829 0.57542032 0.68381749 0.75234861 0.75133687 0.72365949\n",
      " 0.72074483 0.72052804 0.7166498  0.72667052 0.72606831 0.74861489\n",
      " 0.77019802 0.77405216 0.79320228 0.80486099 0.79565926 0.8034639\n",
      " 0.81025681 0.80500551 0.82796162 0.81037722 0.81666422 0.76417596\n",
      " 0.77212505 0.75425161 0.75996051 0.75670858 0.76858408 0.77178786\n",
      " 0.76415185 0.75774436 0.77104113 0.77980921 0.80223538 0.81153348\n",
      " 0.82834704 0.82523971 0.88090764 0.87486146 0.90897045 0.9352026\n",
      " 0.93893625 0.97176856 0.98629378 1.         0.99865106 0.96088069\n",
      " 0.96962467 0.9735691  0.97651589 0.97756481]\n",
      "3 day output [[0.976228]]\n",
      "4 day input [0.48137977 0.49173773 0.50833454 0.50599798 0.49388158 0.49706122\n",
      " 0.47116634 0.47983812 0.47762201 0.48125932 0.49600136 0.50539577\n",
      " 0.50395046 0.49352024 0.51495881 0.509828   0.5202823  0.52931539\n",
      " 0.55716145 0.55419857 0.55258466 0.54682757 0.55159703 0.54846559\n",
      " 0.55595704 0.54155223 0.54302162 0.4996146  0.51283903 0.54622536\n",
      " 0.54518958 0.54215444 0.55135617 0.54759841 0.52326925 0.51941512\n",
      " 0.53456665 0.54017922 0.55097075 0.55147662 0.55906441 0.58091244\n",
      " 0.5831527  0.58763308 0.59298068 0.5808884  0.57257792 0.57758829\n",
      " 0.57542032 0.68381749 0.75234861 0.75133687 0.72365949 0.72074483\n",
      " 0.72052804 0.7166498  0.72667052 0.72606831 0.74861489 0.77019802\n",
      " 0.77405216 0.79320228 0.80486099 0.79565926 0.8034639  0.81025681\n",
      " 0.80500551 0.82796162 0.81037722 0.81666422 0.76417596 0.77212505\n",
      " 0.75425161 0.75996051 0.75670858 0.76858408 0.77178786 0.76415185\n",
      " 0.75774436 0.77104113 0.77980921 0.80223538 0.81153348 0.82834704\n",
      " 0.82523971 0.88090764 0.87486146 0.90897045 0.9352026  0.93893625\n",
      " 0.97176856 0.98629378 1.         0.99865106 0.96088069 0.96962467\n",
      " 0.9735691  0.97651589 0.97756481 0.976228  ]\n",
      "4 day output [[0.9736968]]\n",
      "5 day input [0.49173773 0.50833454 0.50599798 0.49388158 0.49706122 0.47116634\n",
      " 0.47983812 0.47762201 0.48125932 0.49600136 0.50539577 0.50395046\n",
      " 0.49352024 0.51495881 0.509828   0.5202823  0.52931539 0.55716145\n",
      " 0.55419857 0.55258466 0.54682757 0.55159703 0.54846559 0.55595704\n",
      " 0.54155223 0.54302162 0.4996146  0.51283903 0.54622536 0.54518958\n",
      " 0.54215444 0.55135617 0.54759841 0.52326925 0.51941512 0.53456665\n",
      " 0.54017922 0.55097075 0.55147662 0.55906441 0.58091244 0.5831527\n",
      " 0.58763308 0.59298068 0.5808884  0.57257792 0.57758829 0.57542032\n",
      " 0.68381749 0.75234861 0.75133687 0.72365949 0.72074483 0.72052804\n",
      " 0.7166498  0.72667052 0.72606831 0.74861489 0.77019802 0.77405216\n",
      " 0.79320228 0.80486099 0.79565926 0.8034639  0.81025681 0.80500551\n",
      " 0.82796162 0.81037722 0.81666422 0.76417596 0.77212505 0.75425161\n",
      " 0.75996051 0.75670858 0.76858408 0.77178786 0.76415185 0.75774436\n",
      " 0.77104113 0.77980921 0.80223538 0.81153348 0.82834704 0.82523971\n",
      " 0.88090764 0.87486146 0.90897045 0.9352026  0.93893625 0.97176856\n",
      " 0.98629378 1.         0.99865106 0.96088069 0.96962467 0.9735691\n",
      " 0.97651589 0.97756481 0.976228   0.97369683]\n",
      "5 day output [[0.97075695]]\n",
      "6 day input [0.50833454 0.50599798 0.49388158 0.49706122 0.47116634 0.47983812\n",
      " 0.47762201 0.48125932 0.49600136 0.50539577 0.50395046 0.49352024\n",
      " 0.51495881 0.509828   0.5202823  0.52931539 0.55716145 0.55419857\n",
      " 0.55258466 0.54682757 0.55159703 0.54846559 0.55595704 0.54155223\n",
      " 0.54302162 0.4996146  0.51283903 0.54622536 0.54518958 0.54215444\n",
      " 0.55135617 0.54759841 0.52326925 0.51941512 0.53456665 0.54017922\n",
      " 0.55097075 0.55147662 0.55906441 0.58091244 0.5831527  0.58763308\n",
      " 0.59298068 0.5808884  0.57257792 0.57758829 0.57542032 0.68381749\n",
      " 0.75234861 0.75133687 0.72365949 0.72074483 0.72052804 0.7166498\n",
      " 0.72667052 0.72606831 0.74861489 0.77019802 0.77405216 0.79320228\n",
      " 0.80486099 0.79565926 0.8034639  0.81025681 0.80500551 0.82796162\n",
      " 0.81037722 0.81666422 0.76417596 0.77212505 0.75425161 0.75996051\n",
      " 0.75670858 0.76858408 0.77178786 0.76415185 0.75774436 0.77104113\n",
      " 0.77980921 0.80223538 0.81153348 0.82834704 0.82523971 0.88090764\n",
      " 0.87486146 0.90897045 0.9352026  0.93893625 0.97176856 0.98629378\n",
      " 1.         0.99865106 0.96088069 0.96962467 0.9735691  0.97651589\n",
      " 0.97756481 0.976228   0.97369683 0.97075695]\n",
      "6 day output [[0.96766764]]\n",
      "7 day input [0.50599798 0.49388158 0.49706122 0.47116634 0.47983812 0.47762201\n",
      " 0.48125932 0.49600136 0.50539577 0.50395046 0.49352024 0.51495881\n",
      " 0.509828   0.5202823  0.52931539 0.55716145 0.55419857 0.55258466\n",
      " 0.54682757 0.55159703 0.54846559 0.55595704 0.54155223 0.54302162\n",
      " 0.4996146  0.51283903 0.54622536 0.54518958 0.54215444 0.55135617\n",
      " 0.54759841 0.52326925 0.51941512 0.53456665 0.54017922 0.55097075\n",
      " 0.55147662 0.55906441 0.58091244 0.5831527  0.58763308 0.59298068\n",
      " 0.5808884  0.57257792 0.57758829 0.57542032 0.68381749 0.75234861\n",
      " 0.75133687 0.72365949 0.72074483 0.72052804 0.7166498  0.72667052\n",
      " 0.72606831 0.74861489 0.77019802 0.77405216 0.79320228 0.80486099\n",
      " 0.79565926 0.8034639  0.81025681 0.80500551 0.82796162 0.81037722\n",
      " 0.81666422 0.76417596 0.77212505 0.75425161 0.75996051 0.75670858\n",
      " 0.76858408 0.77178786 0.76415185 0.75774436 0.77104113 0.77980921\n",
      " 0.80223538 0.81153348 0.82834704 0.82523971 0.88090764 0.87486146\n",
      " 0.90897045 0.9352026  0.93893625 0.97176856 0.98629378 1.\n",
      " 0.99865106 0.96088069 0.96962467 0.9735691  0.97651589 0.97756481\n",
      " 0.976228   0.97369683 0.97075695 0.96766764]\n",
      "7 day output [[0.96438104]]\n",
      "8 day input [0.49388158 0.49706122 0.47116634 0.47983812 0.47762201 0.48125932\n",
      " 0.49600136 0.50539577 0.50395046 0.49352024 0.51495881 0.509828\n",
      " 0.5202823  0.52931539 0.55716145 0.55419857 0.55258466 0.54682757\n",
      " 0.55159703 0.54846559 0.55595704 0.54155223 0.54302162 0.4996146\n",
      " 0.51283903 0.54622536 0.54518958 0.54215444 0.55135617 0.54759841\n",
      " 0.52326925 0.51941512 0.53456665 0.54017922 0.55097075 0.55147662\n",
      " 0.55906441 0.58091244 0.5831527  0.58763308 0.59298068 0.5808884\n",
      " 0.57257792 0.57758829 0.57542032 0.68381749 0.75234861 0.75133687\n",
      " 0.72365949 0.72074483 0.72052804 0.7166498  0.72667052 0.72606831\n",
      " 0.74861489 0.77019802 0.77405216 0.79320228 0.80486099 0.79565926\n",
      " 0.8034639  0.81025681 0.80500551 0.82796162 0.81037722 0.81666422\n",
      " 0.76417596 0.77212505 0.75425161 0.75996051 0.75670858 0.76858408\n",
      " 0.77178786 0.76415185 0.75774436 0.77104113 0.77980921 0.80223538\n",
      " 0.81153348 0.82834704 0.82523971 0.88090764 0.87486146 0.90897045\n",
      " 0.9352026  0.93893625 0.97176856 0.98629378 1.         0.99865106\n",
      " 0.96088069 0.96962467 0.9735691  0.97651589 0.97756481 0.976228\n",
      " 0.97369683 0.97075695 0.96766764 0.96438104]\n",
      "8 day output [[0.96077996]]\n",
      "9 day input [0.49706122 0.47116634 0.47983812 0.47762201 0.48125932 0.49600136\n",
      " 0.50539577 0.50395046 0.49352024 0.51495881 0.509828   0.5202823\n",
      " 0.52931539 0.55716145 0.55419857 0.55258466 0.54682757 0.55159703\n",
      " 0.54846559 0.55595704 0.54155223 0.54302162 0.4996146  0.51283903\n",
      " 0.54622536 0.54518958 0.54215444 0.55135617 0.54759841 0.52326925\n",
      " 0.51941512 0.53456665 0.54017922 0.55097075 0.55147662 0.55906441\n",
      " 0.58091244 0.5831527  0.58763308 0.59298068 0.5808884  0.57257792\n",
      " 0.57758829 0.57542032 0.68381749 0.75234861 0.75133687 0.72365949\n",
      " 0.72074483 0.72052804 0.7166498  0.72667052 0.72606831 0.74861489\n",
      " 0.77019802 0.77405216 0.79320228 0.80486099 0.79565926 0.8034639\n",
      " 0.81025681 0.80500551 0.82796162 0.81037722 0.81666422 0.76417596\n",
      " 0.77212505 0.75425161 0.75996051 0.75670858 0.76858408 0.77178786\n",
      " 0.76415185 0.75774436 0.77104113 0.77980921 0.80223538 0.81153348\n",
      " 0.82834704 0.82523971 0.88090764 0.87486146 0.90897045 0.9352026\n",
      " 0.93893625 0.97176856 0.98629378 1.         0.99865106 0.96088069\n",
      " 0.96962467 0.9735691  0.97651589 0.97756481 0.976228   0.97369683\n",
      " 0.97075695 0.96766764 0.96438104 0.96077996]\n",
      "9 day output [[0.9568079]]\n",
      "10 day input [0.47116634 0.47983812 0.47762201 0.48125932 0.49600136 0.50539577\n",
      " 0.50395046 0.49352024 0.51495881 0.509828   0.5202823  0.52931539\n",
      " 0.55716145 0.55419857 0.55258466 0.54682757 0.55159703 0.54846559\n",
      " 0.55595704 0.54155223 0.54302162 0.4996146  0.51283903 0.54622536\n",
      " 0.54518958 0.54215444 0.55135617 0.54759841 0.52326925 0.51941512\n",
      " 0.53456665 0.54017922 0.55097075 0.55147662 0.55906441 0.58091244\n",
      " 0.5831527  0.58763308 0.59298068 0.5808884  0.57257792 0.57758829\n",
      " 0.57542032 0.68381749 0.75234861 0.75133687 0.72365949 0.72074483\n",
      " 0.72052804 0.7166498  0.72667052 0.72606831 0.74861489 0.77019802\n",
      " 0.77405216 0.79320228 0.80486099 0.79565926 0.8034639  0.81025681\n",
      " 0.80500551 0.82796162 0.81037722 0.81666422 0.76417596 0.77212505\n",
      " 0.75425161 0.75996051 0.75670858 0.76858408 0.77178786 0.76415185\n",
      " 0.75774436 0.77104113 0.77980921 0.80223538 0.81153348 0.82834704\n",
      " 0.82523971 0.88090764 0.87486146 0.90897045 0.9352026  0.93893625\n",
      " 0.97176856 0.98629378 1.         0.99865106 0.96088069 0.96962467\n",
      " 0.9735691  0.97651589 0.97756481 0.976228   0.97369683 0.97075695\n",
      " 0.96766764 0.96438104 0.96077996 0.95680791]\n",
      "10 day output [[0.9524866]]\n",
      "11 day input [0.47983812 0.47762201 0.48125932 0.49600136 0.50539577 0.50395046\n",
      " 0.49352024 0.51495881 0.509828   0.5202823  0.52931539 0.55716145\n",
      " 0.55419857 0.55258466 0.54682757 0.55159703 0.54846559 0.55595704\n",
      " 0.54155223 0.54302162 0.4996146  0.51283903 0.54622536 0.54518958\n",
      " 0.54215444 0.55135617 0.54759841 0.52326925 0.51941512 0.53456665\n",
      " 0.54017922 0.55097075 0.55147662 0.55906441 0.58091244 0.5831527\n",
      " 0.58763308 0.59298068 0.5808884  0.57257792 0.57758829 0.57542032\n",
      " 0.68381749 0.75234861 0.75133687 0.72365949 0.72074483 0.72052804\n",
      " 0.7166498  0.72667052 0.72606831 0.74861489 0.77019802 0.77405216\n",
      " 0.79320228 0.80486099 0.79565926 0.8034639  0.81025681 0.80500551\n",
      " 0.82796162 0.81037722 0.81666422 0.76417596 0.77212505 0.75425161\n",
      " 0.75996051 0.75670858 0.76858408 0.77178786 0.76415185 0.75774436\n",
      " 0.77104113 0.77980921 0.80223538 0.81153348 0.82834704 0.82523971\n",
      " 0.88090764 0.87486146 0.90897045 0.9352026  0.93893625 0.97176856\n",
      " 0.98629378 1.         0.99865106 0.96088069 0.96962467 0.9735691\n",
      " 0.97651589 0.97756481 0.976228   0.97369683 0.97075695 0.96766764\n",
      " 0.96438104 0.96077996 0.95680791 0.95248657]\n",
      "11 day output [[0.9478797]]\n",
      "12 day input [0.47762201 0.48125932 0.49600136 0.50539577 0.50395046 0.49352024\n",
      " 0.51495881 0.509828   0.5202823  0.52931539 0.55716145 0.55419857\n",
      " 0.55258466 0.54682757 0.55159703 0.54846559 0.55595704 0.54155223\n",
      " 0.54302162 0.4996146  0.51283903 0.54622536 0.54518958 0.54215444\n",
      " 0.55135617 0.54759841 0.52326925 0.51941512 0.53456665 0.54017922\n",
      " 0.55097075 0.55147662 0.55906441 0.58091244 0.5831527  0.58763308\n",
      " 0.59298068 0.5808884  0.57257792 0.57758829 0.57542032 0.68381749\n",
      " 0.75234861 0.75133687 0.72365949 0.72074483 0.72052804 0.7166498\n",
      " 0.72667052 0.72606831 0.74861489 0.77019802 0.77405216 0.79320228\n",
      " 0.80486099 0.79565926 0.8034639  0.81025681 0.80500551 0.82796162\n",
      " 0.81037722 0.81666422 0.76417596 0.77212505 0.75425161 0.75996051\n",
      " 0.75670858 0.76858408 0.77178786 0.76415185 0.75774436 0.77104113\n",
      " 0.77980921 0.80223538 0.81153348 0.82834704 0.82523971 0.88090764\n",
      " 0.87486146 0.90897045 0.9352026  0.93893625 0.97176856 0.98629378\n",
      " 1.         0.99865106 0.96088069 0.96962467 0.9735691  0.97651589\n",
      " 0.97756481 0.976228   0.97369683 0.97075695 0.96766764 0.96438104\n",
      " 0.96077996 0.95680791 0.95248657 0.94787967]\n",
      "12 day output [[0.94305384]]\n",
      "13 day input [0.48125932 0.49600136 0.50539577 0.50395046 0.49352024 0.51495881\n",
      " 0.509828   0.5202823  0.52931539 0.55716145 0.55419857 0.55258466\n",
      " 0.54682757 0.55159703 0.54846559 0.55595704 0.54155223 0.54302162\n",
      " 0.4996146  0.51283903 0.54622536 0.54518958 0.54215444 0.55135617\n",
      " 0.54759841 0.52326925 0.51941512 0.53456665 0.54017922 0.55097075\n",
      " 0.55147662 0.55906441 0.58091244 0.5831527  0.58763308 0.59298068\n",
      " 0.5808884  0.57257792 0.57758829 0.57542032 0.68381749 0.75234861\n",
      " 0.75133687 0.72365949 0.72074483 0.72052804 0.7166498  0.72667052\n",
      " 0.72606831 0.74861489 0.77019802 0.77405216 0.79320228 0.80486099\n",
      " 0.79565926 0.8034639  0.81025681 0.80500551 0.82796162 0.81037722\n",
      " 0.81666422 0.76417596 0.77212505 0.75425161 0.75996051 0.75670858\n",
      " 0.76858408 0.77178786 0.76415185 0.75774436 0.77104113 0.77980921\n",
      " 0.80223538 0.81153348 0.82834704 0.82523971 0.88090764 0.87486146\n",
      " 0.90897045 0.9352026  0.93893625 0.97176856 0.98629378 1.\n",
      " 0.99865106 0.96088069 0.96962467 0.9735691  0.97651589 0.97756481\n",
      " 0.976228   0.97369683 0.97075695 0.96766764 0.96438104 0.96077996\n",
      " 0.95680791 0.95248657 0.94787967 0.94305384]\n",
      "13 day output [[0.9380598]]\n",
      "14 day input [0.49600136 0.50539577 0.50395046 0.49352024 0.51495881 0.509828\n",
      " 0.5202823  0.52931539 0.55716145 0.55419857 0.55258466 0.54682757\n",
      " 0.55159703 0.54846559 0.55595704 0.54155223 0.54302162 0.4996146\n",
      " 0.51283903 0.54622536 0.54518958 0.54215444 0.55135617 0.54759841\n",
      " 0.52326925 0.51941512 0.53456665 0.54017922 0.55097075 0.55147662\n",
      " 0.55906441 0.58091244 0.5831527  0.58763308 0.59298068 0.5808884\n",
      " 0.57257792 0.57758829 0.57542032 0.68381749 0.75234861 0.75133687\n",
      " 0.72365949 0.72074483 0.72052804 0.7166498  0.72667052 0.72606831\n",
      " 0.74861489 0.77019802 0.77405216 0.79320228 0.80486099 0.79565926\n",
      " 0.8034639  0.81025681 0.80500551 0.82796162 0.81037722 0.81666422\n",
      " 0.76417596 0.77212505 0.75425161 0.75996051 0.75670858 0.76858408\n",
      " 0.77178786 0.76415185 0.75774436 0.77104113 0.77980921 0.80223538\n",
      " 0.81153348 0.82834704 0.82523971 0.88090764 0.87486146 0.90897045\n",
      " 0.9352026  0.93893625 0.97176856 0.98629378 1.         0.99865106\n",
      " 0.96088069 0.96962467 0.9735691  0.97651589 0.97756481 0.976228\n",
      " 0.97369683 0.97075695 0.96766764 0.96438104 0.96077996 0.95680791\n",
      " 0.95248657 0.94787967 0.94305384 0.93805981]\n",
      "14 day output [[0.93293035]]\n",
      "15 day input [0.50539577 0.50395046 0.49352024 0.51495881 0.509828   0.5202823\n",
      " 0.52931539 0.55716145 0.55419857 0.55258466 0.54682757 0.55159703\n",
      " 0.54846559 0.55595704 0.54155223 0.54302162 0.4996146  0.51283903\n",
      " 0.54622536 0.54518958 0.54215444 0.55135617 0.54759841 0.52326925\n",
      " 0.51941512 0.53456665 0.54017922 0.55097075 0.55147662 0.55906441\n",
      " 0.58091244 0.5831527  0.58763308 0.59298068 0.5808884  0.57257792\n",
      " 0.57758829 0.57542032 0.68381749 0.75234861 0.75133687 0.72365949\n",
      " 0.72074483 0.72052804 0.7166498  0.72667052 0.72606831 0.74861489\n",
      " 0.77019802 0.77405216 0.79320228 0.80486099 0.79565926 0.8034639\n",
      " 0.81025681 0.80500551 0.82796162 0.81037722 0.81666422 0.76417596\n",
      " 0.77212505 0.75425161 0.75996051 0.75670858 0.76858408 0.77178786\n",
      " 0.76415185 0.75774436 0.77104113 0.77980921 0.80223538 0.81153348\n",
      " 0.82834704 0.82523971 0.88090764 0.87486146 0.90897045 0.9352026\n",
      " 0.93893625 0.97176856 0.98629378 1.         0.99865106 0.96088069\n",
      " 0.96962467 0.9735691  0.97651589 0.97756481 0.976228   0.97369683\n",
      " 0.97075695 0.96766764 0.96438104 0.96077996 0.95680791 0.95248657\n",
      " 0.94787967 0.94305384 0.93805981 0.93293035]\n",
      "15 day output [[0.92768806]]\n",
      "16 day input [0.50395046 0.49352024 0.51495881 0.509828   0.5202823  0.52931539\n",
      " 0.55716145 0.55419857 0.55258466 0.54682757 0.55159703 0.54846559\n",
      " 0.55595704 0.54155223 0.54302162 0.4996146  0.51283903 0.54622536\n",
      " 0.54518958 0.54215444 0.55135617 0.54759841 0.52326925 0.51941512\n",
      " 0.53456665 0.54017922 0.55097075 0.55147662 0.55906441 0.58091244\n",
      " 0.5831527  0.58763308 0.59298068 0.5808884  0.57257792 0.57758829\n",
      " 0.57542032 0.68381749 0.75234861 0.75133687 0.72365949 0.72074483\n",
      " 0.72052804 0.7166498  0.72667052 0.72606831 0.74861489 0.77019802\n",
      " 0.77405216 0.79320228 0.80486099 0.79565926 0.8034639  0.81025681\n",
      " 0.80500551 0.82796162 0.81037722 0.81666422 0.76417596 0.77212505\n",
      " 0.75425161 0.75996051 0.75670858 0.76858408 0.77178786 0.76415185\n",
      " 0.75774436 0.77104113 0.77980921 0.80223538 0.81153348 0.82834704\n",
      " 0.82523971 0.88090764 0.87486146 0.90897045 0.9352026  0.93893625\n",
      " 0.97176856 0.98629378 1.         0.99865106 0.96088069 0.96962467\n",
      " 0.9735691  0.97651589 0.97756481 0.976228   0.97369683 0.97075695\n",
      " 0.96766764 0.96438104 0.96077996 0.95680791 0.95248657 0.94787967\n",
      " 0.94305384 0.93805981 0.93293035 0.92768806]\n",
      "16 day output [[0.92235196]]\n",
      "17 day input [0.49352024 0.51495881 0.509828   0.5202823  0.52931539 0.55716145\n",
      " 0.55419857 0.55258466 0.54682757 0.55159703 0.54846559 0.55595704\n",
      " 0.54155223 0.54302162 0.4996146  0.51283903 0.54622536 0.54518958\n",
      " 0.54215444 0.55135617 0.54759841 0.52326925 0.51941512 0.53456665\n",
      " 0.54017922 0.55097075 0.55147662 0.55906441 0.58091244 0.5831527\n",
      " 0.58763308 0.59298068 0.5808884  0.57257792 0.57758829 0.57542032\n",
      " 0.68381749 0.75234861 0.75133687 0.72365949 0.72074483 0.72052804\n",
      " 0.7166498  0.72667052 0.72606831 0.74861489 0.77019802 0.77405216\n",
      " 0.79320228 0.80486099 0.79565926 0.8034639  0.81025681 0.80500551\n",
      " 0.82796162 0.81037722 0.81666422 0.76417596 0.77212505 0.75425161\n",
      " 0.75996051 0.75670858 0.76858408 0.77178786 0.76415185 0.75774436\n",
      " 0.77104113 0.77980921 0.80223538 0.81153348 0.82834704 0.82523971\n",
      " 0.88090764 0.87486146 0.90897045 0.9352026  0.93893625 0.97176856\n",
      " 0.98629378 1.         0.99865106 0.96088069 0.96962467 0.9735691\n",
      " 0.97651589 0.97756481 0.976228   0.97369683 0.97075695 0.96766764\n",
      " 0.96438104 0.96077996 0.95680791 0.95248657 0.94787967 0.94305384\n",
      " 0.93805981 0.93293035 0.92768806 0.92235196]\n",
      "17 day output [[0.9169399]]\n",
      "18 day input [0.51495881 0.509828   0.5202823  0.52931539 0.55716145 0.55419857\n",
      " 0.55258466 0.54682757 0.55159703 0.54846559 0.55595704 0.54155223\n",
      " 0.54302162 0.4996146  0.51283903 0.54622536 0.54518958 0.54215444\n",
      " 0.55135617 0.54759841 0.52326925 0.51941512 0.53456665 0.54017922\n",
      " 0.55097075 0.55147662 0.55906441 0.58091244 0.5831527  0.58763308\n",
      " 0.59298068 0.5808884  0.57257792 0.57758829 0.57542032 0.68381749\n",
      " 0.75234861 0.75133687 0.72365949 0.72074483 0.72052804 0.7166498\n",
      " 0.72667052 0.72606831 0.74861489 0.77019802 0.77405216 0.79320228\n",
      " 0.80486099 0.79565926 0.8034639  0.81025681 0.80500551 0.82796162\n",
      " 0.81037722 0.81666422 0.76417596 0.77212505 0.75425161 0.75996051\n",
      " 0.75670858 0.76858408 0.77178786 0.76415185 0.75774436 0.77104113\n",
      " 0.77980921 0.80223538 0.81153348 0.82834704 0.82523971 0.88090764\n",
      " 0.87486146 0.90897045 0.9352026  0.93893625 0.97176856 0.98629378\n",
      " 1.         0.99865106 0.96088069 0.96962467 0.9735691  0.97651589\n",
      " 0.97756481 0.976228   0.97369683 0.97075695 0.96766764 0.96438104\n",
      " 0.96077996 0.95680791 0.95248657 0.94787967 0.94305384 0.93805981\n",
      " 0.93293035 0.92768806 0.92235196 0.91693991]\n",
      "18 day output [[0.9114695]]\n",
      "19 day input [0.509828   0.5202823  0.52931539 0.55716145 0.55419857 0.55258466\n",
      " 0.54682757 0.55159703 0.54846559 0.55595704 0.54155223 0.54302162\n",
      " 0.4996146  0.51283903 0.54622536 0.54518958 0.54215444 0.55135617\n",
      " 0.54759841 0.52326925 0.51941512 0.53456665 0.54017922 0.55097075\n",
      " 0.55147662 0.55906441 0.58091244 0.5831527  0.58763308 0.59298068\n",
      " 0.5808884  0.57257792 0.57758829 0.57542032 0.68381749 0.75234861\n",
      " 0.75133687 0.72365949 0.72074483 0.72052804 0.7166498  0.72667052\n",
      " 0.72606831 0.74861489 0.77019802 0.77405216 0.79320228 0.80486099\n",
      " 0.79565926 0.8034639  0.81025681 0.80500551 0.82796162 0.81037722\n",
      " 0.81666422 0.76417596 0.77212505 0.75425161 0.75996051 0.75670858\n",
      " 0.76858408 0.77178786 0.76415185 0.75774436 0.77104113 0.77980921\n",
      " 0.80223538 0.81153348 0.82834704 0.82523971 0.88090764 0.87486146\n",
      " 0.90897045 0.9352026  0.93893625 0.97176856 0.98629378 1.\n",
      " 0.99865106 0.96088069 0.96962467 0.9735691  0.97651589 0.97756481\n",
      " 0.976228   0.97369683 0.97075695 0.96766764 0.96438104 0.96077996\n",
      " 0.95680791 0.95248657 0.94787967 0.94305384 0.93805981 0.93293035\n",
      " 0.92768806 0.92235196 0.91693991 0.91146952]\n",
      "19 day output [[0.9059581]]\n",
      "20 day input [0.5202823  0.52931539 0.55716145 0.55419857 0.55258466 0.54682757\n",
      " 0.55159703 0.54846559 0.55595704 0.54155223 0.54302162 0.4996146\n",
      " 0.51283903 0.54622536 0.54518958 0.54215444 0.55135617 0.54759841\n",
      " 0.52326925 0.51941512 0.53456665 0.54017922 0.55097075 0.55147662\n",
      " 0.55906441 0.58091244 0.5831527  0.58763308 0.59298068 0.5808884\n",
      " 0.57257792 0.57758829 0.57542032 0.68381749 0.75234861 0.75133687\n",
      " 0.72365949 0.72074483 0.72052804 0.7166498  0.72667052 0.72606831\n",
      " 0.74861489 0.77019802 0.77405216 0.79320228 0.80486099 0.79565926\n",
      " 0.8034639  0.81025681 0.80500551 0.82796162 0.81037722 0.81666422\n",
      " 0.76417596 0.77212505 0.75425161 0.75996051 0.75670858 0.76858408\n",
      " 0.77178786 0.76415185 0.75774436 0.77104113 0.77980921 0.80223538\n",
      " 0.81153348 0.82834704 0.82523971 0.88090764 0.87486146 0.90897045\n",
      " 0.9352026  0.93893625 0.97176856 0.98629378 1.         0.99865106\n",
      " 0.96088069 0.96962467 0.9735691  0.97651589 0.97756481 0.976228\n",
      " 0.97369683 0.97075695 0.96766764 0.96438104 0.96077996 0.95680791\n",
      " 0.95248657 0.94787967 0.94305384 0.93805981 0.93293035 0.92768806\n",
      " 0.92235196 0.91693991 0.91146952 0.90595812]\n",
      "20 day output [[0.9004207]]\n",
      "21 day input [0.52931539 0.55716145 0.55419857 0.55258466 0.54682757 0.55159703\n",
      " 0.54846559 0.55595704 0.54155223 0.54302162 0.4996146  0.51283903\n",
      " 0.54622536 0.54518958 0.54215444 0.55135617 0.54759841 0.52326925\n",
      " 0.51941512 0.53456665 0.54017922 0.55097075 0.55147662 0.55906441\n",
      " 0.58091244 0.5831527  0.58763308 0.59298068 0.5808884  0.57257792\n",
      " 0.57758829 0.57542032 0.68381749 0.75234861 0.75133687 0.72365949\n",
      " 0.72074483 0.72052804 0.7166498  0.72667052 0.72606831 0.74861489\n",
      " 0.77019802 0.77405216 0.79320228 0.80486099 0.79565926 0.8034639\n",
      " 0.81025681 0.80500551 0.82796162 0.81037722 0.81666422 0.76417596\n",
      " 0.77212505 0.75425161 0.75996051 0.75670858 0.76858408 0.77178786\n",
      " 0.76415185 0.75774436 0.77104113 0.77980921 0.80223538 0.81153348\n",
      " 0.82834704 0.82523971 0.88090764 0.87486146 0.90897045 0.9352026\n",
      " 0.93893625 0.97176856 0.98629378 1.         0.99865106 0.96088069\n",
      " 0.96962467 0.9735691  0.97651589 0.97756481 0.976228   0.97369683\n",
      " 0.97075695 0.96766764 0.96438104 0.96077996 0.95680791 0.95248657\n",
      " 0.94787967 0.94305384 0.93805981 0.93293035 0.92768806 0.92235196\n",
      " 0.91693991 0.91146952 0.90595812 0.90042073]\n",
      "21 day output [[0.8948702]]\n",
      "22 day input [0.55716145 0.55419857 0.55258466 0.54682757 0.55159703 0.54846559\n",
      " 0.55595704 0.54155223 0.54302162 0.4996146  0.51283903 0.54622536\n",
      " 0.54518958 0.54215444 0.55135617 0.54759841 0.52326925 0.51941512\n",
      " 0.53456665 0.54017922 0.55097075 0.55147662 0.55906441 0.58091244\n",
      " 0.5831527  0.58763308 0.59298068 0.5808884  0.57257792 0.57758829\n",
      " 0.57542032 0.68381749 0.75234861 0.75133687 0.72365949 0.72074483\n",
      " 0.72052804 0.7166498  0.72667052 0.72606831 0.74861489 0.77019802\n",
      " 0.77405216 0.79320228 0.80486099 0.79565926 0.8034639  0.81025681\n",
      " 0.80500551 0.82796162 0.81037722 0.81666422 0.76417596 0.77212505\n",
      " 0.75425161 0.75996051 0.75670858 0.76858408 0.77178786 0.76415185\n",
      " 0.75774436 0.77104113 0.77980921 0.80223538 0.81153348 0.82834704\n",
      " 0.82523971 0.88090764 0.87486146 0.90897045 0.9352026  0.93893625\n",
      " 0.97176856 0.98629378 1.         0.99865106 0.96088069 0.96962467\n",
      " 0.9735691  0.97651589 0.97756481 0.976228   0.97369683 0.97075695\n",
      " 0.96766764 0.96438104 0.96077996 0.95680791 0.95248657 0.94787967\n",
      " 0.94305384 0.93805981 0.93293035 0.92768806 0.92235196 0.91693991\n",
      " 0.91146952 0.90595812 0.90042073 0.89487022]\n",
      "22 day output [[0.88931865]]\n",
      "23 day input [0.55419857 0.55258466 0.54682757 0.55159703 0.54846559 0.55595704\n",
      " 0.54155223 0.54302162 0.4996146  0.51283903 0.54622536 0.54518958\n",
      " 0.54215444 0.55135617 0.54759841 0.52326925 0.51941512 0.53456665\n",
      " 0.54017922 0.55097075 0.55147662 0.55906441 0.58091244 0.5831527\n",
      " 0.58763308 0.59298068 0.5808884  0.57257792 0.57758829 0.57542032\n",
      " 0.68381749 0.75234861 0.75133687 0.72365949 0.72074483 0.72052804\n",
      " 0.7166498  0.72667052 0.72606831 0.74861489 0.77019802 0.77405216\n",
      " 0.79320228 0.80486099 0.79565926 0.8034639  0.81025681 0.80500551\n",
      " 0.82796162 0.81037722 0.81666422 0.76417596 0.77212505 0.75425161\n",
      " 0.75996051 0.75670858 0.76858408 0.77178786 0.76415185 0.75774436\n",
      " 0.77104113 0.77980921 0.80223538 0.81153348 0.82834704 0.82523971\n",
      " 0.88090764 0.87486146 0.90897045 0.9352026  0.93893625 0.97176856\n",
      " 0.98629378 1.         0.99865106 0.96088069 0.96962467 0.9735691\n",
      " 0.97651589 0.97756481 0.976228   0.97369683 0.97075695 0.96766764\n",
      " 0.96438104 0.96077996 0.95680791 0.95248657 0.94787967 0.94305384\n",
      " 0.93805981 0.93293035 0.92768806 0.92235196 0.91693991 0.91146952\n",
      " 0.90595812 0.90042073 0.89487022 0.88931865]\n",
      "23 day output [[0.88377595]]\n",
      "24 day input [0.55258466 0.54682757 0.55159703 0.54846559 0.55595704 0.54155223\n",
      " 0.54302162 0.4996146  0.51283903 0.54622536 0.54518958 0.54215444\n",
      " 0.55135617 0.54759841 0.52326925 0.51941512 0.53456665 0.54017922\n",
      " 0.55097075 0.55147662 0.55906441 0.58091244 0.5831527  0.58763308\n",
      " 0.59298068 0.5808884  0.57257792 0.57758829 0.57542032 0.68381749\n",
      " 0.75234861 0.75133687 0.72365949 0.72074483 0.72052804 0.7166498\n",
      " 0.72667052 0.72606831 0.74861489 0.77019802 0.77405216 0.79320228\n",
      " 0.80486099 0.79565926 0.8034639  0.81025681 0.80500551 0.82796162\n",
      " 0.81037722 0.81666422 0.76417596 0.77212505 0.75425161 0.75996051\n",
      " 0.75670858 0.76858408 0.77178786 0.76415185 0.75774436 0.77104113\n",
      " 0.77980921 0.80223538 0.81153348 0.82834704 0.82523971 0.88090764\n",
      " 0.87486146 0.90897045 0.9352026  0.93893625 0.97176856 0.98629378\n",
      " 1.         0.99865106 0.96088069 0.96962467 0.9735691  0.97651589\n",
      " 0.97756481 0.976228   0.97369683 0.97075695 0.96766764 0.96438104\n",
      " 0.96077996 0.95680791 0.95248657 0.94787967 0.94305384 0.93805981\n",
      " 0.93293035 0.92768806 0.92235196 0.91693991 0.91146952 0.90595812\n",
      " 0.90042073 0.89487022 0.88931865 0.88377595]\n",
      "24 day output [[0.8782514]]\n",
      "25 day input [0.54682757 0.55159703 0.54846559 0.55595704 0.54155223 0.54302162\n",
      " 0.4996146  0.51283903 0.54622536 0.54518958 0.54215444 0.55135617\n",
      " 0.54759841 0.52326925 0.51941512 0.53456665 0.54017922 0.55097075\n",
      " 0.55147662 0.55906441 0.58091244 0.5831527  0.58763308 0.59298068\n",
      " 0.5808884  0.57257792 0.57758829 0.57542032 0.68381749 0.75234861\n",
      " 0.75133687 0.72365949 0.72074483 0.72052804 0.7166498  0.72667052\n",
      " 0.72606831 0.74861489 0.77019802 0.77405216 0.79320228 0.80486099\n",
      " 0.79565926 0.8034639  0.81025681 0.80500551 0.82796162 0.81037722\n",
      " 0.81666422 0.76417596 0.77212505 0.75425161 0.75996051 0.75670858\n",
      " 0.76858408 0.77178786 0.76415185 0.75774436 0.77104113 0.77980921\n",
      " 0.80223538 0.81153348 0.82834704 0.82523971 0.88090764 0.87486146\n",
      " 0.90897045 0.9352026  0.93893625 0.97176856 0.98629378 1.\n",
      " 0.99865106 0.96088069 0.96962467 0.9735691  0.97651589 0.97756481\n",
      " 0.976228   0.97369683 0.97075695 0.96766764 0.96438104 0.96077996\n",
      " 0.95680791 0.95248657 0.94787967 0.94305384 0.93805981 0.93293035\n",
      " 0.92768806 0.92235196 0.91693991 0.91146952 0.90595812 0.90042073\n",
      " 0.89487022 0.88931865 0.88377595 0.87825137]\n",
      "25 day output [[0.87275195]]\n",
      "26 day input [0.55159703 0.54846559 0.55595704 0.54155223 0.54302162 0.4996146\n",
      " 0.51283903 0.54622536 0.54518958 0.54215444 0.55135617 0.54759841\n",
      " 0.52326925 0.51941512 0.53456665 0.54017922 0.55097075 0.55147662\n",
      " 0.55906441 0.58091244 0.5831527  0.58763308 0.59298068 0.5808884\n",
      " 0.57257792 0.57758829 0.57542032 0.68381749 0.75234861 0.75133687\n",
      " 0.72365949 0.72074483 0.72052804 0.7166498  0.72667052 0.72606831\n",
      " 0.74861489 0.77019802 0.77405216 0.79320228 0.80486099 0.79565926\n",
      " 0.8034639  0.81025681 0.80500551 0.82796162 0.81037722 0.81666422\n",
      " 0.76417596 0.77212505 0.75425161 0.75996051 0.75670858 0.76858408\n",
      " 0.77178786 0.76415185 0.75774436 0.77104113 0.77980921 0.80223538\n",
      " 0.81153348 0.82834704 0.82523971 0.88090764 0.87486146 0.90897045\n",
      " 0.9352026  0.93893625 0.97176856 0.98629378 1.         0.99865106\n",
      " 0.96088069 0.96962467 0.9735691  0.97651589 0.97756481 0.976228\n",
      " 0.97369683 0.97075695 0.96766764 0.96438104 0.96077996 0.95680791\n",
      " 0.95248657 0.94787967 0.94305384 0.93805981 0.93293035 0.92768806\n",
      " 0.92235196 0.91693991 0.91146952 0.90595812 0.90042073 0.89487022\n",
      " 0.88931865 0.88377595 0.87825137 0.87275195]\n",
      "26 day output [[0.86728495]]\n",
      "27 day input [0.54846559 0.55595704 0.54155223 0.54302162 0.4996146  0.51283903\n",
      " 0.54622536 0.54518958 0.54215444 0.55135617 0.54759841 0.52326925\n",
      " 0.51941512 0.53456665 0.54017922 0.55097075 0.55147662 0.55906441\n",
      " 0.58091244 0.5831527  0.58763308 0.59298068 0.5808884  0.57257792\n",
      " 0.57758829 0.57542032 0.68381749 0.75234861 0.75133687 0.72365949\n",
      " 0.72074483 0.72052804 0.7166498  0.72667052 0.72606831 0.74861489\n",
      " 0.77019802 0.77405216 0.79320228 0.80486099 0.79565926 0.8034639\n",
      " 0.81025681 0.80500551 0.82796162 0.81037722 0.81666422 0.76417596\n",
      " 0.77212505 0.75425161 0.75996051 0.75670858 0.76858408 0.77178786\n",
      " 0.76415185 0.75774436 0.77104113 0.77980921 0.80223538 0.81153348\n",
      " 0.82834704 0.82523971 0.88090764 0.87486146 0.90897045 0.9352026\n",
      " 0.93893625 0.97176856 0.98629378 1.         0.99865106 0.96088069\n",
      " 0.96962467 0.9735691  0.97651589 0.97756481 0.976228   0.97369683\n",
      " 0.97075695 0.96766764 0.96438104 0.96077996 0.95680791 0.95248657\n",
      " 0.94787967 0.94305384 0.93805981 0.93293035 0.92768806 0.92235196\n",
      " 0.91693991 0.91146952 0.90595812 0.90042073 0.89487022 0.88931865\n",
      " 0.88377595 0.87825137 0.87275195 0.86728495]\n",
      "27 day output [[0.8618565]]\n",
      "28 day input [0.55595704 0.54155223 0.54302162 0.4996146  0.51283903 0.54622536\n",
      " 0.54518958 0.54215444 0.55135617 0.54759841 0.52326925 0.51941512\n",
      " 0.53456665 0.54017922 0.55097075 0.55147662 0.55906441 0.58091244\n",
      " 0.5831527  0.58763308 0.59298068 0.5808884  0.57257792 0.57758829\n",
      " 0.57542032 0.68381749 0.75234861 0.75133687 0.72365949 0.72074483\n",
      " 0.72052804 0.7166498  0.72667052 0.72606831 0.74861489 0.77019802\n",
      " 0.77405216 0.79320228 0.80486099 0.79565926 0.8034639  0.81025681\n",
      " 0.80500551 0.82796162 0.81037722 0.81666422 0.76417596 0.77212505\n",
      " 0.75425161 0.75996051 0.75670858 0.76858408 0.77178786 0.76415185\n",
      " 0.75774436 0.77104113 0.77980921 0.80223538 0.81153348 0.82834704\n",
      " 0.82523971 0.88090764 0.87486146 0.90897045 0.9352026  0.93893625\n",
      " 0.97176856 0.98629378 1.         0.99865106 0.96088069 0.96962467\n",
      " 0.9735691  0.97651589 0.97756481 0.976228   0.97369683 0.97075695\n",
      " 0.96766764 0.96438104 0.96077996 0.95680791 0.95248657 0.94787967\n",
      " 0.94305384 0.93805981 0.93293035 0.92768806 0.92235196 0.91693991\n",
      " 0.91146952 0.90595812 0.90042073 0.89487022 0.88931865 0.88377595\n",
      " 0.87825137 0.87275195 0.86728495 0.86185652]\n",
      "28 day output [[0.8564727]]\n",
      "29 day input [0.54155223 0.54302162 0.4996146  0.51283903 0.54622536 0.54518958\n",
      " 0.54215444 0.55135617 0.54759841 0.52326925 0.51941512 0.53456665\n",
      " 0.54017922 0.55097075 0.55147662 0.55906441 0.58091244 0.5831527\n",
      " 0.58763308 0.59298068 0.5808884  0.57257792 0.57758829 0.57542032\n",
      " 0.68381749 0.75234861 0.75133687 0.72365949 0.72074483 0.72052804\n",
      " 0.7166498  0.72667052 0.72606831 0.74861489 0.77019802 0.77405216\n",
      " 0.79320228 0.80486099 0.79565926 0.8034639  0.81025681 0.80500551\n",
      " 0.82796162 0.81037722 0.81666422 0.76417596 0.77212505 0.75425161\n",
      " 0.75996051 0.75670858 0.76858408 0.77178786 0.76415185 0.75774436\n",
      " 0.77104113 0.77980921 0.80223538 0.81153348 0.82834704 0.82523971\n",
      " 0.88090764 0.87486146 0.90897045 0.9352026  0.93893625 0.97176856\n",
      " 0.98629378 1.         0.99865106 0.96088069 0.96962467 0.9735691\n",
      " 0.97651589 0.97756481 0.976228   0.97369683 0.97075695 0.96766764\n",
      " 0.96438104 0.96077996 0.95680791 0.95248657 0.94787967 0.94305384\n",
      " 0.93805981 0.93293035 0.92768806 0.92235196 0.91693991 0.91146952\n",
      " 0.90595812 0.90042073 0.89487022 0.88931865 0.88377595 0.87825137\n",
      " 0.87275195 0.86728495 0.86185652 0.85647267]\n",
      "29 day output [[0.85113835]]\n",
      "[[0.9735690951347351], [0.9765158891677856], [0.977564811706543], [0.9762279987335205], [0.9736968278884888], [0.9707569479942322], [0.9676676392555237], [0.9643810391426086], [0.9607799649238586], [0.9568079113960266], [0.9524865746498108], [0.9478796720504761], [0.9430538415908813], [0.9380598068237305], [0.9329303503036499], [0.9276880621910095], [0.9223519563674927], [0.916939914226532], [0.9114695191383362], [0.9059581160545349], [0.9004207253456116], [0.8948702216148376], [0.8893186450004578], [0.8837759494781494], [0.8782513737678528], [0.8727519512176514], [0.8672849535942078], [0.8618565201759338], [0.8564726710319519], [0.8511383533477783]]\n"
     ]
    }
   ],
   "source": [
    "# demonstrate prediction for next 10 days\n",
    "from numpy import array\n",
    "\n",
    "lst_output=[]\n",
    "n_steps=100\n",
    "i=0\n",
    "while(i<30):\n",
    "    \n",
    "    if(len(temp_input)>100):\n",
    "        #print(temp_input)\n",
    "        x_input=np.array(temp_input[1:])\n",
    "        print(\"{} day input {}\".format(i,x_input))\n",
    "        # x_input=x_input.reshape(1,-1)\n",
    "        # x_input = x_input.reshape((1, n_steps, 1))\n",
    "        #print(x_input)\n",
    "        yhat = model.predict(x_input, verbose=0)\n",
    "        print(\"{} day output {}\".format(i,yhat))\n",
    "        temp_input.extend(yhat[0].tolist())\n",
    "        temp_input=temp_input[1:]\n",
    "        #print(temp_input)\n",
    "        lst_output.extend(yhat.tolist())\n",
    "        i=i+1\n",
    "    else:\n",
    "        # x_input = x_input.reshape((1, n_steps,1))\n",
    "        yhat = model.predict(x_input, verbose=0)\n",
    "        print(yhat[0])\n",
    "        temp_input.extend(yhat[0].tolist())\n",
    "        print(len(temp_input))\n",
    "        lst_output.extend(yhat.tolist())\n",
    "        i=i+1\n",
    "    \n",
    "\n",
    "print(lst_output)"
   ]
  },
  {
   "cell_type": "code",
   "execution_count": null,
   "metadata": {},
   "outputs": [],
   "source": [
    "day_new=np.arange(1,101)\n",
    "day_pred=np.arange(101,131)"
   ]
  },
  {
   "cell_type": "code",
   "execution_count": null,
   "metadata": {},
   "outputs": [],
   "source": [
    "import matplotlib.pyplot as plt"
   ]
  },
  {
   "cell_type": "code",
   "execution_count": null,
   "metadata": {},
   "outputs": [
    {
     "data": {
      "text/plain": [
       "2394"
      ]
     },
     "execution_count": 93,
     "metadata": {},
     "output_type": "execute_result"
    }
   ],
   "source": [
    "len(df1)"
   ]
  },
  {
   "cell_type": "code",
   "execution_count": null,
   "metadata": {},
   "outputs": [],
   "source": []
  },
  {
   "cell_type": "code",
   "execution_count": null,
   "metadata": {},
   "outputs": [
    {
     "data": {
      "text/plain": [
       "[<matplotlib.lines.Line2D at 0x7f3002fdaa70>]"
      ]
     },
     "execution_count": 94,
     "metadata": {},
     "output_type": "execute_result"
    },
    {
     "data": {
      "image/png": "[encoded data removed]",
      "text/plain": [
       "<Figure size 640x480 with 1 Axes>"
      ]
     },
     "metadata": {},
     "output_type": "display_data"
    }
   ],
   "source": [
    "plt.plot(day_new,scaler.inverse_transform(df1[(len(df1)-100):]))\n",
    "plt.plot(day_pred,scaler.inverse_transform(lst_output))"
   ]
  },
  {
   "cell_type": "code",
   "execution_count": null,
   "metadata": {},
   "outputs": [
    {
     "data": {
      "text/plain": [
       "[<matplotlib.lines.Line2D at 0x7f3002fb6290>]"
      ]
     },
     "execution_count": 95,
     "metadata": {},
     "output_type": "execute_result"
    },
    {
     "data": {
      "image/png": "[encoded data removed]",
      "text/plain": [
       "<Figure size 640x480 with 1 Axes>"
      ]
     },
     "metadata": {},
     "output_type": "display_data"
    }
   ],
   "source": [
    "combined=df1.tolist()\n",
    "combined.extend(lst_output)\n",
    "plt.plot(combined[:])"
   ]
  },
  {
   "cell_type": "code",
   "execution_count": null,
   "metadata": {},
   "outputs": [],
   "source": [
    "combined=scaler.inverse_transform(combined).tolist()"
   ]
  },
  {
   "cell_type": "code",
   "execution_count": null,
   "metadata": {},
   "outputs": [
    {
     "data": {
      "text/plain": [
       "[<matplotlib.lines.Line2D at 0x7f3002f7ebf0>]"
      ]
     },
     "execution_count": 97,
     "metadata": {},
     "output_type": "execute_result"
    },
    {
     "data": {
      "image/png": "[encoded data removed]",
      "text/plain": [
       "<Figure size 640x480 with 1 Axes>"
      ]
     },
     "metadata": {},
     "output_type": "display_data"
    }
   ],
   "source": [
    "plt.plot(combined)"
   ]
  }
 ],
 "metadata": {
  "kernelspec": {
   "display_name": "Python 3",
   "language": "python",
   "name": "python3"
  },
  "language_info": {
   "codemirror_mode": {
    "name": "ipython",
    "version": 3
   },
   "file_extension": ".py",
   "mimetype": "text/x-python",
   "name": "python",
   "nbconvert_exporter": "python",
   "pygments_lexer": "ipython3",
   "version": "3.10.9"
  }
 },
 "nbformat": 4,
 "nbformat_minor": 2
}
